{
 "cells": [
  {
   "cell_type": "code",
   "execution_count": 1,
   "metadata": {},
   "outputs": [],
   "source": [
    "import numpy as np\n",
    "\n",
    "\n",
    "import os\n",
    "\n",
    "from sklearn.decomposition import PCA\n",
    "home_path = os.getcwd().replace('/TMP PCA/notebooks','')\n",
    "import cPickle as pickle\n",
    "import pandas as pd\n",
    "#data_region1='A12.CS10290F.EBA66.TUBE1'\n",
    "#data_region2='A12.CS10290F.EBA66.TUBE2'\n",
    "#data_region3='A12.CS10290F.EBA66.TUBE3'\n",
    "\n",
    "data_region1='A12.CS10292F.EBA66.TUBE1'\n",
    "data_region2='A12.CS10292F.EBA66.TUBE2'\n",
    "data_region3='A12.CS10292F.EBA66.TUBE3'\n"
   ]
  },
  {
   "cell_type": "code",
   "execution_count": 2,
   "metadata": {},
   "outputs": [],
   "source": [
    "file1 = open('/home/creison/Documentos/TileCal/processed_data/Dados_TMP/'+data_region1+'.pkl','rb')\n",
    "object_file1 = pickle.load(file1)\n",
    "file2 = open('/home/creison/Documentos/TileCal/processed_data/Dados_TMP/'+data_region2+'.pkl','rb')\n",
    "object_file2 = pickle.load(file2)\n",
    "file3 = open('/home/creison/Documentos/TileCal/processed_data/Dados_TMP/'+data_region3+'.pkl','rb')\n",
    "object_file3 = pickle.load(file3)"
   ]
  },
  {
   "cell_type": "code",
   "execution_count": 3,
   "metadata": {},
   "outputs": [],
   "source": [
    "a= np.dstack([object_file1[\"tensor\"],object_file2[\"tensor\"],object_file3[\"tensor\"]])\n",
    "b=object_file1['single_anode_channel']\n",
    "c=np.concatenate([object_file1[\"trigger\"],object_file2[\"trigger\"],object_file3[\"trigger\"]])\n",
    "d=np.concatenate([object_file1[\"timesec\"],object_file2[\"timesec\"],object_file3[\"timesec\"]])\n",
    "e=np.concatenate([object_file1[\"data\"],object_file2[\"data\"],object_file3[\"data\"]])\n",
    "f=np.concatenate([object_file1[\"timemksec\"],object_file2[\"timemksec\"],object_file3[\"timemksec\"]])"
   ]
  },
  {
   "cell_type": "code",
   "execution_count": 4,
   "metadata": {},
   "outputs": [],
   "source": [
    "ordena=['tensor', 'single_anode_channel', 'trigger', 'timesec', 'data', 'timemksec']\n",
    "#zip This function returns a list of tuples\n",
    "dados=[a,b,c,d,e,f]\n",
    "dictionary = dict(zip(ordena,dados))"
   ]
  },
  {
   "cell_type": "code",
   "execution_count": 5,
   "metadata": {},
   "outputs": [],
   "source": [
    "pickle.dump(dictionary,open( \"A12.CS10292F.EBA66.FULL.pkl\", \"wb\" ) )"
   ]
  },
  {
   "cell_type": "code",
   "execution_count": null,
   "metadata": {},
   "outputs": [],
   "source": []
  }
 ],
 "metadata": {
  "kernelspec": {
   "display_name": "Python 2",
   "language": "python",
   "name": "python2"
  },
  "language_info": {
   "codemirror_mode": {
    "name": "ipython",
    "version": 2
   },
   "file_extension": ".py",
   "mimetype": "text/x-python",
   "name": "python",
   "nbconvert_exporter": "python",
   "pygments_lexer": "ipython2",
   "version": "2.7.14"
  }
 },
 "nbformat": 4,
 "nbformat_minor": 2
}
