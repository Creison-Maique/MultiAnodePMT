{
 "cells": [
  {
   "cell_type": "code",
   "execution_count": 83,
   "metadata": {},
   "outputs": [],
   "source": [
    "%run 'Opening Files.ipynb'"
   ]
  },
  {
   "cell_type": "code",
   "execution_count": 84,
   "metadata": {},
   "outputs": [],
   "source": [
    "def calc_TSNE(matriz_method,number_componentes):\n",
    "    # Compute ICA:\n",
    "    \"\"\"\n",
    "            Private method creating a vector image in a chosen folder\n",
    "            Only for Fast TSNE\n",
    "            #note that you need the variable \" ordem \" to desvector_patches\n",
    "            Args:\n",
    "            ----\n",
    "            matriz_method (str): Method that will return a transformation\n",
    "            of an matrix in array\n",
    "            number_componentes(int): Number of components that will be used\n",
    "\n",
    "            Returns:\n",
    "            pesq(array 2D)\n",
    "            -------        \n",
    "    \"\"\"\n",
    "   \n",
    "    CalcTSNE=TSNE(n_components=number_componentes)\n",
    "    S_= CalcTSNE.fit_transform(matriz_serpentina)  \n",
    "    \n",
    "   \n",
    "    myarray = np.asarray(S_)\n",
    "    myarray2= (myarray-myarray.min())/(myarray.max()-myarray.min())\n",
    "    #print scatter plot\n",
    "    #scatter_plot(myarray2)\n",
    "\n",
    "\n",
    "    return myarray2 \n"
   ]
  },
  {
   "cell_type": "code",
   "execution_count": 85,
   "metadata": {},
   "outputs": [],
   "source": [
    "def path_serpentina(number):\n",
    "    #number=Number of components that were used in the function \"calc_ICA\"\n",
    "    N=str(number)\n",
    "    serpentina_path = home_path+'/TMP/analysis/'+data_region+'/TSNE/'+N+'_Components/serpentine_method'\n",
    "    \n",
    "    return serpentina_path"
   ]
  },
  {
   "cell_type": "code",
   "execution_count": 86,
   "metadata": {},
   "outputs": [],
   "source": [
    "def scatter_plot(components):\n",
    "    plt.style.use('ggplot')\n",
    "    plt.figure(figsize=(10,10))\n",
    "\n",
    "    plt.plot(components[:,0],components[:,1],'o')\n",
    "\n",
    "    plt.title('Scatter Plot TSNE', fontsize = 25)\n",
    "        #plt.text(60, .025, r'$\\mu=100,\\ \\sigma=15$')\n",
    "\n",
    "        #plt.axis('off')\n",
    "        # hide tick and tick label of the big axes\n",
    "    plt.xlabel(\"Component 1\",fontsize=20)\n",
    "    plt.ylabel(\"Component 2\",fontsize=20)\n",
    "    #plt.legend(bbox_to_anchor=(1.05, 1), loc=2, borderaxespad=0.)\n",
    "    \n",
    "    path=path_serpentina(len(components[0]))\n",
    "    N=len(components[0])\n",
    "    plt.savefig(path+'/Analysis/Scatter_Plot_'+str(N)+'_image.png', bbox_inches='tight') \n",
    "    plt.clf()\n",
    "    plt.close('all')\n",
    "    \n",
    "    from mpl_toolkits.mplot3d import Axes3D\n",
    "\n",
    "\n",
    "    fig = plt.figure(figsize=(10,10))\n",
    "    ax = fig.add_subplot(111, projection='3d')\n",
    "\n",
    "\n",
    "  \n",
    "\n",
    "    ax.scatter(components[:,0], components[:,1], components[:,2])\n",
    "\n",
    "    ax.set_xlabel('Component 1')\n",
    "    ax.set_ylabel('Component 2')\n",
    "    ax.set_zlabel('Component 3')\n",
    "\n",
    "    plt.savefig(path+'/Analysis/Scatter_Plot3D_'+str(N)+'_image.png', bbox_inches='tight') \n",
    "    plt.clf()\n",
    "    plt.close('all')\n",
    "    "
   ]
  },
  {
   "cell_type": "code",
   "execution_count": 87,
   "metadata": {},
   "outputs": [
    {
     "name": "stdout",
     "output_type": "stream",
     "text": [
      "Components 03\n"
     ]
    }
   ],
   "source": [
    "#For 03 Components\n",
    "components03=calc_TSNE('Serpentine',3)\n",
    "scatter_plot(components03)\n",
    "print \"Components 03\""
   ]
  },
  {
   "cell_type": "code",
   "execution_count": null,
   "metadata": {},
   "outputs": [],
   "source": []
  }
 ],
 "metadata": {
  "kernelspec": {
   "display_name": "Python 2",
   "language": "python",
   "name": "python2"
  },
  "language_info": {
   "codemirror_mode": {
    "name": "ipython",
    "version": 2
   },
   "file_extension": ".py",
   "mimetype": "text/x-python",
   "name": "python",
   "nbconvert_exporter": "python",
   "pygments_lexer": "ipython2",
   "version": "2.7.14"
  }
 },
 "nbformat": 4,
 "nbformat_minor": 2
}
