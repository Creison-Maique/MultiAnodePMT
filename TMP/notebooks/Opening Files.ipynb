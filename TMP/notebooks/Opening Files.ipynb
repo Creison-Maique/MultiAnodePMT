{
 "cells": [
  {
   "cell_type": "code",
   "execution_count": 1,
   "metadata": {
    "collapsed": true
   },
   "outputs": [],
   "source": [
    "import numpy as np\n",
    "import matplotlib.pyplot as plt \n",
    "import matplotlib.ticker as ticker\n",
    "import heapq\n",
    "import os\n",
    "from decimal import Decimal\n",
    "from sklearn.decomposition import PCA\n",
    "from sklearn.decomposition import FastICA\n",
    "home_path = os.getcwd().replace('/TMP/notebooks','')\n",
    "import cPickle as pickle\n",
    "import pandas as pd\n",
    "from sklearn.cluster import KMeans\n",
    "from sklearn.cluster import SpectralClustering\n",
    "from sklearn.manifold import TSNE\n",
    "from sklearn.manifold import Isomap\n",
    "\n",
    "data_region='A12.CS10290F.EBA66.TUBE1'\n",
    "#data_region='A12.CS10292F.EBA66.TUBE3'"
   ]
  },
  {
   "cell_type": "code",
   "execution_count": 2,
   "metadata": {
    "collapsed": true
   },
   "outputs": [],
   "source": [
    "file = open('/home/creison/Documentos/TileCal/processed_data/Dados_TMP/'+data_region+'.pkl','rb')\n",
    "object_file = pickle.load(file)"
   ]
  },
  {
   "cell_type": "code",
   "execution_count": 3,
   "metadata": {
    "collapsed": true
   },
   "outputs": [],
   "source": [
    "#object_file.keys()"
   ]
  },
  {
   "cell_type": "code",
   "execution_count": 4,
   "metadata": {
    "collapsed": true
   },
   "outputs": [],
   "source": [
    "#object_file[\"tensor\"].shape"
   ]
  },
  {
   "cell_type": "code",
   "execution_count": 5,
   "metadata": {
    "collapsed": true
   },
   "outputs": [],
   "source": [
    "#Serpentine mode vectoring\n",
    "#transform into a vector an array received from Image Channel\n",
    "def vector_serpentina():\n",
    "    \"\"\"\n",
    "        Private method that returns the transformation\n",
    "        of an matrix in array using the serpentine method\n",
    "\n",
    "        Args:\n",
    "        ----\n",
    "        None \n",
    "\n",
    "        Returns:\n",
    "        -------\n",
    "        lista (1D array): vectorization result\n",
    "    \"\"\"\n",
    "    \n",
    "    lista=np.array([])\n",
    "    #Receive array of \"create_image\" function from file Image Channel\n",
    "    vetor=ma_pmt_image\n",
    "    for i in range (8):\n",
    "\n",
    "        if(i==1 or i==3 or i==5 or i==7):\n",
    "            #Reverse the order of elements in an array along the given axis.\n",
    "            vetor=np.flip(ma_pmt_image, 1) \n",
    "        else:\n",
    "            #Does not require even lines to flip\n",
    "            vetor=ma_pmt_image\n",
    "\n",
    "        for j in range(8):\n",
    "            lista=np.append(lista,vetor[i,j])\n",
    "    return lista\n",
    "        "
   ]
  },
  {
   "cell_type": "code",
   "execution_count": 10,
   "metadata": {
    "collapsed": true
   },
   "outputs": [],
   "source": [
    "#Uses the vector_serpentina method to vectorize all data array entries\n",
    "#It returns a 165X64 matrix, with the values of the Data_Array.npy files mapped\n",
    "for l in range(object_file[\"tensor\"].shape[2]):\n",
    "    #ma_pmt_image receives array from imported file after passing through \"create image\"\n",
    "    ma_pmt_image = object_file[\"tensor\"][:,:,l]\n",
    "    if (l==0):\n",
    "        #Used to initialize matriz_serpentina to avoid error in vstack\n",
    "        matriz_serpentina=vector_serpentina()\n",
    "    else:\n",
    "        #Stack arrays in sequence vertically (row wise).\n",
    "        matriz_serpentina=np.vstack((  matriz_serpentina, vector_serpentina()  ))"
   ]
  },
  {
   "cell_type": "code",
   "execution_count": 11,
   "metadata": {
    "collapsed": true
   },
   "outputs": [],
   "source": [
    "#Desvectorize serpentine mode\n",
    "def desvector_serpentina(vetor):\n",
    "    \"\"\"\n",
    "        Private method that returns the transformation\n",
    "        of an array in matrix using the serpentine method\n",
    "\n",
    "        Args:\n",
    "        ----\n",
    "        Vetor(1D Array):Vector that we will transform into matrix\n",
    "\n",
    "        Returns:\n",
    "        -------\n",
    "        v (2D array): transformation result\n",
    "    \"\"\"\n",
    "    #Using the copy, to avoid the error of change in the serpentine matrix\n",
    "    teste=vetor.copy()\n",
    "    #Gives a new shape to an array without changing its data.\n",
    "    v = teste.reshape((8, 8))\n",
    "    for i in range (8):\n",
    "\n",
    "        if(i==1 or i==3 or i==5 or i==7):\n",
    "            bloco = v[i,:8]\n",
    "            #Reverse the order of elements in an array along the given axis.\n",
    "            bloco[:] = np.flip(bloco.copy(),0)\n",
    "        \n",
    "    return v"
   ]
  },
  {
   "cell_type": "code",
   "execution_count": 8,
   "metadata": {
    "collapsed": true
   },
   "outputs": [],
   "source": [
    "#Comparing if the matrices are equal\n",
    "#np.array_equal(object_file[\"tensor\"][:,:,1],desvector_serpentina(matriz_serpentina[1]))"
   ]
  },
  {
   "cell_type": "code",
   "execution_count": null,
   "metadata": {
    "collapsed": true
   },
   "outputs": [],
   "source": []
  }
 ],
 "metadata": {
  "kernelspec": {
   "display_name": "Python 2",
   "language": "python",
   "name": "python2"
  },
  "language_info": {
   "codemirror_mode": {
    "name": "ipython",
    "version": 2
   },
   "file_extension": ".py",
   "mimetype": "text/x-python",
   "name": "python",
   "nbconvert_exporter": "python",
   "pygments_lexer": "ipython2",
   "version": "2.7.15"
  }
 },
 "nbformat": 4,
 "nbformat_minor": 2
}
