{
 "cells": [
  {
   "cell_type": "code",
   "execution_count": null,
   "metadata": {
    "collapsed": true
   },
   "outputs": [],
   "source": [
    "%run 'FastICA.ipynb'"
   ]
  },
  {
   "cell_type": "code",
   "execution_count": null,
   "metadata": {
    "collapsed": true
   },
   "outputs": [],
   "source": [
    "A1=calc_ICA(matriz_serpentina)\n",
    "A2=calc_ICA(matriz_serpentina)"
   ]
  },
  {
   "cell_type": "code",
   "execution_count": null,
   "metadata": {
    "collapsed": true
   },
   "outputs": [],
   "source": [
    "create_image_ICA(desvector_serpentina,serpentina_path,A2) \n",
    "create_image_ICA(desvector_patches,patches_path)"
   ]
  },
  {
   "cell_type": "code",
   "execution_count": null,
   "metadata": {
    "collapsed": true
   },
   "outputs": [],
   "source": [
    "from scipy.spatial import distance\n",
    "nums = []\n",
    "nums1=[]\n",
    "nums2=[]\n",
    "import scipy as sp\n",
    "for i in range(9):\n",
    "    for j in range(9):\n",
    "        nums.append(distance.euclidean(A1[i],A2[j]))\n",
    "        nums1.append(distance.canberra(A1[i],A2[j]))\n",
    "        nums2.append(distance.cityblock(A1[i],A2[j]))\n",
    "nums= np.asarray(nums)\n",
    "nums1=np.asarray(nums1)\n",
    "nums2=np.asarray(nums2)\n",
    "first=nums.reshape((9,9))\n",
    "second=nums1.reshape((9,9))\n",
    "third=nums2.reshape((9,9))"
   ]
  },
  {
   "cell_type": "code",
   "execution_count": null,
   "metadata": {
    "collapsed": true
   },
   "outputs": [],
   "source": [
    "#Euclidean\n",
    "fig, ax = plt.subplots(figsize=(10,10))\n",
    "# Using matshow here just because it sets the ticks up nicely. imshow is faster.\n",
    "ax.matshow(first, cmap='YlGnBu')\n",
    "\n",
    "for (i, j), z in np.ndenumerate(first):\n",
    "    ax.text(j, i, '{:0.5f}'.format(z), ha='center', va='center')\n",
    "plt.savefig(serpentina_path+'/Euclidean_1.png', bbox_inches='tight',pad_inches = 0)\n",
    "plt.show()"
   ]
  },
  {
   "cell_type": "code",
   "execution_count": null,
   "metadata": {
    "collapsed": true
   },
   "outputs": [],
   "source": [
    "#Canberra\n",
    "fig, ax = plt.subplots(figsize=(10,10))\n",
    "# Using matshow here just because it sets the ticks up nicely. imshow is faster.\n",
    "ax.matshow(second, cmap='YlGnBu')\n",
    "\n",
    "for (i, j), z in np.ndenumerate(second):\n",
    "    ax.text(j, i, '{:0.5f}'.format(z), ha='center', va='center')\n",
    "plt.savefig(serpentina_path+'/Canberra_1.png', bbox_inches='tight',pad_inches = 0)\n",
    "plt.show()"
   ]
  },
  {
   "cell_type": "code",
   "execution_count": null,
   "metadata": {
    "collapsed": true
   },
   "outputs": [],
   "source": [
    "#CityBlock\n",
    "fig, ax = plt.subplots(figsize=(10,10))\n",
    "# Using matshow here just because it sets the ticks up nicely. imshow is faster.\n",
    "ax.matshow(third,cmap='YlGnBu')\n",
    "\n",
    "for (i, j), z in np.ndenumerate(third):\n",
    "    ax.text(j, i, '{:0.5f}'.format(z), ha='center', va='center')\n",
    "plt.savefig(serpentina_path+'/CityBlock_1.png', bbox_inches='tight',pad_inches = 0)\n",
    "plt.show()"
   ]
  }
 ],
 "metadata": {
  "kernelspec": {
   "display_name": "Python 2",
   "language": "python",
   "name": "python2"
  },
  "language_info": {
   "codemirror_mode": {
    "name": "ipython",
    "version": 2
   },
   "file_extension": ".py",
   "mimetype": "text/x-python",
   "name": "python",
   "nbconvert_exporter": "python",
   "pygments_lexer": "ipython2",
   "version": "2.7.13"
  }
 },
 "nbformat": 4,
 "nbformat_minor": 2
}
