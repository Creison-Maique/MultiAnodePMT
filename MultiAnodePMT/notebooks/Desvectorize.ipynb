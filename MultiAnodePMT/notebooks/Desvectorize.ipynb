{
 "cells": [
  {
   "cell_type": "code",
   "execution_count": 1,
   "metadata": {},
   "outputs": [],
   "source": [
    "%run 'Vectorize.ipynb'"
   ]
  },
  {
   "cell_type": "code",
   "execution_count": 2,
   "metadata": {},
   "outputs": [],
   "source": [
    "#Desvectorize serpentine mode\n",
    "def desvector_serpentina(vetor):\n",
    "    \"\"\"\n",
    "        Private method that returns the transformation\n",
    "        of an array in matrix using the serpentine method\n",
    "\n",
    "        Args:\n",
    "        ----\n",
    "        Vetor(1D Array):Vector that we will transform into matrix\n",
    "\n",
    "        Returns:\n",
    "        -------\n",
    "        v (2D array): transformation result\n",
    "    \"\"\"\n",
    "    #Using the copy, to avoid the error of change in the serpentine matrix\n",
    "    teste=vetor.copy()\n",
    "    #Gives a new shape to an array without changing its data.\n",
    "    v = teste.reshape((8, 8))\n",
    "    for i in range (8):\n",
    "\n",
    "        if(i==1 or i==3 or i==5 or i==7):\n",
    "            bloco = v[i,:8]\n",
    "            #Reverse the order of elements in an array along the given axis.\n",
    "            bloco[:] = np.flip(bloco.copy(),0)\n",
    "        \n",
    "    return v"
   ]
  },
  {
   "cell_type": "code",
   "execution_count": 3,
   "metadata": {},
   "outputs": [],
   "source": [
    "#Desvectorize mode patches\n",
    "#Argument of the function -> order that the matrix has been vectorized, the SAME defined for the function vector_patches\n",
    "'''\n",
    "  \n",
    "+-------+-------+\n",
    "| . . . | . . . |\n",
    "|Bloco a|Bloco b|\n",
    "| . . . | . . . |\n",
    "+-------+-------+\n",
    "| . . . | . . . |\n",
    "|Bloco c|Bloco d|\n",
    "| . . . | . . . |\n",
    "+-------+-------+\n",
    "  \n",
    "'''\n",
    "def desvector_patches(rest,vetor):\n",
    "    \"\"\"\n",
    "        Private method that returns the transformation\n",
    "        of an array in matrix using the patches method\n",
    "\n",
    "        Args:\n",
    "        ----\n",
    "        rest(string):Order that we want to vectorize the matrix\n",
    "        Ex: order = 'a b c d'  --> the SAME defined for the function vector_patches\n",
    "        separated by whitespace\n",
    "        Vetor(1D Array):Vector that we will transform into matrix\n",
    "        \n",
    "        Returns:\n",
    "        -------\n",
    "        join (2D array): transformation result\n",
    "    \"\"\"\n",
    "    patch=vetor\n",
    "    #Divide the vector into 4 parts\n",
    "    first, second,third,fourth = patch[:16], patch[16:32], patch[32:48], patch[48:64]\n",
    "    \n",
    "    #Gives a new shape to an array without changing its data.\n",
    "    first=first.reshape((4,4))\n",
    "    second=second.reshape((4,4))\n",
    "    third=third.reshape((4,4))\n",
    "    fourth=fourth.reshape((4,4))  \n",
    "   \n",
    "    \n",
    "    #Creates a dictionary and vectorizes the rest argument\n",
    "    order=rest.split( )\n",
    "    ordena=[order[0],order[1],order[2],order[3]]\n",
    "    dados=[first,second,third,fourth]\n",
    "    dictionary = dict(zip(ordena, dados))\n",
    "    \n",
    "\n",
    "    #Stack arrays in sequence horizontally (column wise).\n",
    "    one=np.hstack([dictionary['a'], dictionary['b']])\n",
    "    two=np.hstack([dictionary['c'],dictionary['d']])\n",
    "    join=np.vstack([one,two])\n",
    "    return join\n"
   ]
  },
  {
   "cell_type": "code",
   "execution_count": 4,
   "metadata": {},
   "outputs": [
    {
     "data": {
      "text/plain": [
       "True"
      ]
     },
     "execution_count": 4,
     "metadata": {},
     "output_type": "execute_result"
    }
   ],
   "source": [
    "#Comparing if the matrices are equal\n",
    "np.array_equal(ma_pmt_image,desvector_patches(ordem,matriz_patches[164]))"
   ]
  },
  {
   "cell_type": "code",
   "execution_count": 18,
   "metadata": {},
   "outputs": [
    {
     "data": {
      "text/plain": [
       "True"
      ]
     },
     "execution_count": 18,
     "metadata": {},
     "output_type": "execute_result"
    }
   ],
   "source": [
    "#Comparing if the matrices are equal\n",
    "np.array_equal(ma_pmt_image,desvector_serpentina(matriz_serpentina[164]))"
   ]
  },
  {
   "cell_type": "code",
   "execution_count": null,
   "metadata": {},
   "outputs": [],
   "source": []
  }
 ],
 "metadata": {
  "kernelspec": {
   "display_name": "Python 2",
   "language": "python",
   "name": "python2"
  },
  "language_info": {
   "codemirror_mode": {
    "name": "ipython",
    "version": 2
   },
   "file_extension": ".py",
   "mimetype": "text/x-python",
   "name": "python",
   "nbconvert_exporter": "python",
   "pygments_lexer": "ipython2",
   "version": "2.7.14"
  }
 },
 "nbformat": 4,
 "nbformat_minor": 2
}
