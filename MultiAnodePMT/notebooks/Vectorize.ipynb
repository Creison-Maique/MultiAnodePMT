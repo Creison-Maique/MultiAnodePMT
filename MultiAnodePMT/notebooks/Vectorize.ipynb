{
 "cells": [
  {
   "cell_type": "code",
   "execution_count": 1,
   "metadata": {},
   "outputs": [],
   "source": [
    "%run 'Image Channel.ipynb'"
   ]
  },
  {
   "cell_type": "code",
   "execution_count": 2,
   "metadata": {},
   "outputs": [],
   "source": [
    "#Serpentine mode vectoring\n",
    "#transform into a vector an array received from Image Channel\n",
    "def vector_serpentina():\n",
    "    \"\"\"\n",
    "        Private method that returns the transformation\n",
    "        of an matrix in array using the serpentine method\n",
    "\n",
    "        Args:\n",
    "        ----\n",
    "        None \n",
    "\n",
    "        Returns:\n",
    "        -------\n",
    "        lista (1D array): vectorization result\n",
    "    \"\"\"\n",
    "    \n",
    "    lista=np.array([])\n",
    "    #Receive array of \"create_image\" function from file Image Channel\n",
    "    vetor=ma_pmt_image\n",
    "    for i in range (8):\n",
    "\n",
    "        if(i==1 or i==3 or i==5 or i==7):\n",
    "            #Reverse the order of elements in an array along the given axis.\n",
    "            vetor=np.flip(ma_pmt_image, 1) \n",
    "        else:\n",
    "            #Does not require even lines to flip\n",
    "            vetor=ma_pmt_image\n",
    "\n",
    "        for j in range(8):\n",
    "            lista=np.append(lista,vetor[i,j])\n",
    "    return lista\n",
    "        "
   ]
  },
  {
   "cell_type": "code",
   "execution_count": 3,
   "metadata": {},
   "outputs": [],
   "source": [
    "#Uses the vector_serpentina method to vectorize all data array entries\n",
    "#It returns a 165X64 matrix, with the values of the Data_Array.npy files mapped\n",
    "for l in range(len(data_array)):\n",
    "    #ma_pmt_image receives array from imported file after passing through \"create image\"\n",
    "    ma_pmt_image = create_image(data_array[l,:], map_path)\n",
    "    if (l==0):\n",
    "        #Used to initialize matriz_serpentina to avoid error in vstack\n",
    "        matriz_serpentina=vector_serpentina()\n",
    "    else:\n",
    "        #Stack arrays in sequence vertically (row wise).\n",
    "        matriz_serpentina=np.vstack((  matriz_serpentina, vector_serpentina()  ))\n",
    " "
   ]
  },
  {
   "cell_type": "code",
   "execution_count": 4,
   "metadata": {},
   "outputs": [],
   "source": [
    "   \n",
    "#Vectorization patches mode -> Vectorize an array received from Image Channel\n",
    "#Argument of the function -> Order that we want to vectorize the matrix\n",
    "'''\n",
    "  \n",
    "+-------+-------+\n",
    "| . . . | . . . |\n",
    "|Bloco a|Bloco b|\n",
    "| . . . | . . . |\n",
    "+-------+-------+\n",
    "| . . . | . . . |\n",
    "|Bloco c|Bloco d|\n",
    "| . . . | . . . |\n",
    "+-------+-------+\n",
    "  \n",
    "'''\n",
    "def vector_patches(rest):\n",
    "    \"\"\"\n",
    "        Private method that returns the transformation\n",
    "        of an matriz in array using the patches method\n",
    "\n",
    "        Args:\n",
    "        ----\n",
    "        rest(string):Order that we want to vectorize the matrix\n",
    "        Ex: order = 'a b c d'\n",
    "        separated by whitespace\n",
    "        Returns:\n",
    "        -------\n",
    "        result (1D array): vectorization result\n",
    "    \"\"\"\n",
    "    Vector=ma_pmt_image\n",
    "    #Divide the matrix into 4 parts\n",
    "    a, b, c, d = Vector[:4, :4], Vector[:4, 4:], Vector[4:, :4], Vector[4:, 4:]\n",
    "    #flatten returns an array of a matrix\n",
    "    a=np.array(a).flatten()\n",
    "    b=np.array(b).flatten()\n",
    "    c=np.array(c).flatten()\n",
    "    d=np.array(d).flatten()\n",
    "    \n",
    "    \n",
    "    #Creates a dictionary and vectorizes the rest argument\n",
    "    order=rest.split( )\n",
    "    ordena=['a', 'b', 'c', 'd']\n",
    "    dados=[a,b,c,d]\n",
    "    #zip This function returns a list of tuples\n",
    "    dictionary = dict(zip(ordena, dados))\n",
    "\n",
    "    one=np.append(dictionary[order[0]],dictionary[order[1]])\n",
    "    two=np.append(one,dictionary[order[2]])\n",
    "    result=np.append(two,dictionary[order[3]])\n",
    "    \n",
    "    return result\n",
    "      \n",
    "        \n",
    "  "
   ]
  },
  {
   "cell_type": "code",
   "execution_count": 5,
   "metadata": {},
   "outputs": [],
   "source": [
    "#Matrix using the patch function in chosen order\n",
    "#It returns a 165X64 matrix, with the values of the Data_Array.npy files mapped \n",
    "ordem='c d a b'\n",
    "for l in range(len(data_array)):\n",
    "    #ma_pmt_image receives matrix from imported file after passing through \"create image\"\n",
    "    ma_pmt_image = create_image(data_array[l,:], map_path)\n",
    "    if (l==0):\n",
    "        #Used to initialize matriz_serpentina to avoid error in vstack\n",
    "        matriz_patches=vector_patches(ordem)\n",
    "    else:\n",
    "        #Stack arrays in sequence vertically (row wise).\n",
    "        matriz_patches=np.vstack((  matriz_patches, vector_patches(ordem)  ))"
   ]
  },
  {
   "cell_type": "code",
   "execution_count": 6,
   "metadata": {},
   "outputs": [
    {
     "data": {
      "text/plain": [
       "(165, 64)"
      ]
     },
     "execution_count": 6,
     "metadata": {},
     "output_type": "execute_result"
    }
   ],
   "source": [
    "matriz_serpentina.shape"
   ]
  },
  {
   "cell_type": "code",
   "execution_count": 7,
   "metadata": {},
   "outputs": [
    {
     "data": {
      "text/plain": [
       "(165, 64)"
      ]
     },
     "execution_count": 7,
     "metadata": {},
     "output_type": "execute_result"
    }
   ],
   "source": [
    "matriz_patches.shape"
   ]
  }
 ],
 "metadata": {
  "kernelspec": {
   "display_name": "Python 2",
   "language": "python",
   "name": "python2"
  },
  "language_info": {
   "codemirror_mode": {
    "name": "ipython",
    "version": 2
   },
   "file_extension": ".py",
   "mimetype": "text/x-python",
   "name": "python",
   "nbconvert_exporter": "python",
   "pygments_lexer": "ipython2",
   "version": "2.7.14"
  }
 },
 "nbformat": 4,
 "nbformat_minor": 2
}
