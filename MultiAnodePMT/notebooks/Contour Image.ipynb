{
 "cells": [
  {
   "cell_type": "code",
   "execution_count": 12,
   "metadata": {},
   "outputs": [],
   "source": [
    "from scipy import misc\n",
    "\n",
    "\n",
    "image_path = '/home/creison/Documentos/TileCal/image_FastICA/serpentine_method/imagem_1.png'  \n",
    "\n",
    "fimg = misc.imread(image_path)\n",
    "from skimage import color\n",
    "gimg = color.colorconv.rgb2grey(fimg)\n",
    "from skimage import measure\n",
    "contours = measure.find_contours(gimg, -0.4)\n",
    "\n",
    "import matplotlib.pyplot as plt\n",
    " \n",
    "for n, contour in enumerate(contours):\n",
    "    plt.plot(contour[:, 1], contour[:, 0], linewidth=2)\n",
    "plt.show()"
   ]
  },
  {
   "cell_type": "code",
   "execution_count": 8,
   "metadata": {
    "collapsed": true
   },
   "outputs": [],
   "source": []
  },
  {
   "cell_type": "code",
   "execution_count": null,
   "metadata": {
    "collapsed": true
   },
   "outputs": [],
   "source": []
  }
 ],
 "metadata": {
  "kernelspec": {
   "display_name": "Python 2",
   "language": "python",
   "name": "python2"
  },
  "language_info": {
   "codemirror_mode": {
    "name": "ipython",
    "version": 2
   },
   "file_extension": ".py",
   "mimetype": "text/x-python",
   "name": "python",
   "nbconvert_exporter": "python",
   "pygments_lexer": "ipython2",
   "version": "2.7.13"
  }
 },
 "nbformat": 4,
 "nbformat_minor": 2
}
