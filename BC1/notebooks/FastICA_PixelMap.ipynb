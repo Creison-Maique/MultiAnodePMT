{
 "cells": [
  {
   "cell_type": "code",
   "execution_count": 1,
   "metadata": {
    "collapsed": true
   },
   "outputs": [],
   "source": [
    "import numpy as np\n",
    "import matplotlib.pyplot as plt \n",
    "import matplotlib.ticker as ticker\n",
    "import heapq\n",
    "import os\n",
    "from decimal import Decimal\n",
    "np.set_printoptions(threshold=np.nan) \n",
    "home_path = os.getcwd().replace('BC1/notebooks','')\n",
    "import cPickle as pickle\n",
    "import pandas as pd\n",
    "\n",
    "import json\n",
    "\n",
    "import copy\n",
    "import matplotlib as mpl\n",
    "\n",
    "from sklearn.decomposition import FastICA"
   ]
  },
  {
   "cell_type": "code",
   "execution_count": 2,
   "metadata": {
    "collapsed": true
   },
   "outputs": [],
   "source": [
    "with open(\"separate_BC.json\", \"r\") as read_file:\n",
    "    json_file = json.load(read_file)\n",
    "name_json = json_file[\"file_name\"]\n",
    "split = name_json.split('.')\n",
    "run_number = split[1][2:7]\n",
    "single_anode_channel = int(json_file[\"single_anode_channel\"])\n",
    "number_tubes_json = len(json_file[\"tubes\"])\n",
    "\n",
    "#opening the file\n",
    "\n",
    "dictionary_path = home_path+'processed_data/Dados BC1/'\n",
    "file = open(dictionary_path+name_json+'_separate.pkl','rb')\n",
    "results = pickle.load(file)\n",
    "#Path to the channel reading mapping file\n",
    "map_path = home_path+'processed_data/Dados BC1/mapping.txt'\n",
    "pixel_map = np.loadtxt(map_path)"
   ]
  },
  {
   "cell_type": "code",
   "execution_count": 3,
   "metadata": {
    "collapsed": true
   },
   "outputs": [],
   "source": [
    "matrix = results[\"DataB\"][\"tensor\"][0][:,:,:]"
   ]
  },
  {
   "cell_type": "code",
   "execution_count": 4,
   "metadata": {
    "collapsed": true
   },
   "outputs": [],
   "source": [
    "def calc_ICA(number_componentes,matrix):\n",
    "    # Compute ICA:\n",
    "    \"\"\"\n",
    "        Private method creating a vector image in a chosen folder\n",
    "        Only for Fast ICA\n",
    "        #note that you need the variable \" ordem \" to desvector_patches\n",
    "        Args:\n",
    "        ----\n",
    "        matriz_method (str): Method that will return a transformation\n",
    "        of an matrix in array\n",
    "        number_componentes(int): Number of components that will be used\n",
    "\n",
    "        Returns:\n",
    "        pesq(array 2D)\n",
    "        -------\n",
    "        \n",
    "    \"\"\"  \n",
    "    rn = np.random.RandomState(0)\n",
    "    ica = FastICA(n_components=number_componentes,algorithm='deflation', fun='logcosh',random_state=rn)\n",
    "\n",
    "    S_ = ica.fit_transform(matrix) \n",
    "    A_ = ica.components_             \n",
    "\n",
    "\n",
    "    #Convert the input to an array.\n",
    "    myarray = np.asarray(S_)\n",
    "    pesq2 = np.asarray(A_)\n",
    "    \n",
    "    pesq= (pesq2-pesq2.min())/(pesq2.max()-pesq2.min())\n",
    "\n",
    "    return pesq "
   ]
  },
  {
   "cell_type": "code",
   "execution_count": 5,
   "metadata": {
    "collapsed": true
   },
   "outputs": [],
   "source": [
    "position=np.transpose(np.nonzero(pixel_map))"
   ]
  },
  {
   "cell_type": "code",
   "execution_count": 6,
   "metadata": {
    "collapsed": true
   },
   "outputs": [],
   "source": [
    "data = results[\"DataB\"][\"tensor\"][0][:,:,:][position[:,0],position[:,1]]\n",
    "single_anode = results[\"DataB\"][\"data\"][0][:,2]"
   ]
  },
  {
   "cell_type": "code",
   "execution_count": 33,
   "metadata": {
    "collapsed": true
   },
   "outputs": [],
   "source": [
    "def image_plot(sources,single_anode):\n",
    "\n",
    "    coeff=np.linalg.lstsq((sources.T),single_anode)[0]\n",
    "    sums=0\n",
    "    sums_normal=0\n",
    "    for i in range(len(coeff)):\n",
    "        sums=sums + coeff[i]*sources[i]\n",
    "        sums_normal = sums_normal + sources[i]\n",
    "    print coeff\n",
    "    plt.figure(figsize=(15,10))\n",
    "    plt.plot(single_anode,label='Single-Anode PMT' )\n",
    "    plt.plot(sums,label='Sum')\n",
    "\n",
    "    leg = plt.legend(bbox_to_anchor=(0.730, 0.999), loc=\"best\", borderaxespad=0.,fontsize = 'x-large')\n",
    "    leg.set_title(\"Plot \", prop = {'size':'x-large'})\n",
    "    leg._legend_box.align = \"left\"\n",
    "    plt.title(str(len(coeff))+' Sources :'+' Analysis Sum FastICA Method ', fontsize = 20)\n",
    "    plt.text(150, 1360, r'Ordem Decrescente')\n",
    "    # hide tick and tick label of the big axes\n",
    "    plt.xlabel(\"Triggers\",fontsize=15)\n",
    "    plt.ylabel(\"ADC Counts\",fontsize=15)\n",
    "    plt.savefig(home_path+'BC1/analysis/'+split[1]+'/FastICA_Pixel_Map/sum'+str(len(coeff))+'_analysis.png', bbox_inches='tight')\n",
    "   ######################################################################################################################\n",
    "    plt.figure(figsize=(15,10))\n",
    "\n",
    "    plt.plot(sums_normal,label='Sum')\n",
    "\n",
    "\n",
    "    plt.xlabel(\"Triggers\",fontsize=15)\n",
    "    plt.ylabel(\"ADC Counts\",fontsize=15)\n",
    "    plt.savefig(home_path+'BC1/analysis/'+split[1]+'/FastICA_Pixel_Map/Wsum'+str(len(coeff))+'_analysis_2.png', bbox_inches='tight')\n",
    "   \n",
    "\n",
    "\n",
    "    plt.clf()\n"
   ]
  },
  {
   "cell_type": "code",
   "execution_count": 7,
   "metadata": {
    "collapsed": true,
    "scrolled": true
   },
   "outputs": [],
   "source": [
    "sources02=calc_ICA(2,data)\n",
    "#image_plot(sources02,single_anode)"
   ]
  },
  {
   "cell_type": "code",
   "execution_count": 8,
   "metadata": {},
   "outputs": [
    {
     "data": {
      "text/plain": [
       "(2, 170)"
      ]
     },
     "execution_count": 8,
     "metadata": {},
     "output_type": "execute_result"
    }
   ],
   "source": [
    "sources02.shape"
   ]
  },
  {
   "cell_type": "code",
   "execution_count": 18,
   "metadata": {
    "collapsed": true
   },
   "outputs": [],
   "source": [
    "sources03=calc_ICA(3,data)\n",
    "image_plot(sources03,single_anode)"
   ]
  },
  {
   "cell_type": "code",
   "execution_count": 19,
   "metadata": {
    "collapsed": true
   },
   "outputs": [],
   "source": [
    "sources04=calc_ICA(4,data)\n",
    "image_plot(sources04,single_anode)"
   ]
  },
  {
   "cell_type": "code",
   "execution_count": 20,
   "metadata": {
    "collapsed": true
   },
   "outputs": [],
   "source": [
    "sources05=calc_ICA(5,data)\n",
    "image_plot(sources05,single_anode)"
   ]
  },
  {
   "cell_type": "code",
   "execution_count": 21,
   "metadata": {
    "collapsed": true
   },
   "outputs": [],
   "source": [
    "sources06=calc_ICA(6,data)\n",
    "image_plot(sources06,single_anode)"
   ]
  },
  {
   "cell_type": "code",
   "execution_count": 22,
   "metadata": {
    "collapsed": true
   },
   "outputs": [],
   "source": [
    "sources07=calc_ICA(7,data)\n",
    "image_plot(sources07,single_anode)"
   ]
  },
  {
   "cell_type": "code",
   "execution_count": 23,
   "metadata": {},
   "outputs": [
    {
     "name": "stderr",
     "output_type": "stream",
     "text": [
      "/home/Creison/miniconda2/lib/python2.7/site-packages/matplotlib/pyplot.py:537: RuntimeWarning: More than 20 figures have been opened. Figures created through the pyplot interface (`matplotlib.pyplot.figure`) are retained until explicitly closed and may consume too much memory. (To control this warning, see the rcParam `figure.max_open_warning`).\n",
      "  max_open_warning, RuntimeWarning)\n"
     ]
    }
   ],
   "source": [
    "sources08=calc_ICA(8,data)\n",
    "image_plot(sources08,single_anode)"
   ]
  },
  {
   "cell_type": "code",
   "execution_count": 24,
   "metadata": {
    "collapsed": true
   },
   "outputs": [],
   "source": [
    "sources09=calc_ICA(9,data)\n",
    "image_plot(sources09,single_anode)"
   ]
  },
  {
   "cell_type": "code",
   "execution_count": 25,
   "metadata": {
    "collapsed": true
   },
   "outputs": [],
   "source": [
    "sources15=calc_ICA(15,data)\n",
    "image_plot(sources15,single_anode)"
   ]
  },
  {
   "cell_type": "code",
   "execution_count": 34,
   "metadata": {},
   "outputs": [
    {
     "name": "stdout",
     "output_type": "stream",
     "text": [
      "[-15890.07128281  36739.15333065 -69496.39035614  -6730.48348691\n",
      " -18474.93702709  27920.0398979  -19597.75041662  15744.50735871\n",
      " -58233.28993159   5232.88988469  17495.18278784  17236.81374175\n",
      "   3211.20321294   7274.90222992  -8766.24730027     93.55439674\n",
      "  23351.50618519   1654.97724145  35326.41245671   8199.19821033]\n"
     ]
    }
   ],
   "source": [
    "sources20=calc_ICA(20,data)\n",
    "image_plot(sources20,single_anode)"
   ]
  },
  {
   "cell_type": "code",
   "execution_count": 27,
   "metadata": {
    "collapsed": true
   },
   "outputs": [],
   "source": [
    "sources25=calc_ICA(25,data)\n",
    "image_plot(sources25,single_anode)"
   ]
  },
  {
   "cell_type": "code",
   "execution_count": 28,
   "metadata": {
    "collapsed": true
   },
   "outputs": [],
   "source": [
    "sources30=calc_ICA(30,data)\n",
    "image_plot(sources30,single_anode)"
   ]
  },
  {
   "cell_type": "code",
   "execution_count": 29,
   "metadata": {
    "collapsed": true
   },
   "outputs": [],
   "source": [
    "sources35=calc_ICA(35,data)\n",
    "image_plot(sources35,single_anode)"
   ]
  },
  {
   "cell_type": "code",
   "execution_count": 30,
   "metadata": {
    "collapsed": true
   },
   "outputs": [],
   "source": [
    "sources40=calc_ICA(40,data)\n",
    "image_plot(sources40,single_anode)"
   ]
  },
  {
   "cell_type": "code",
   "execution_count": 31,
   "metadata": {
    "collapsed": true
   },
   "outputs": [],
   "source": [
    "sources45=calc_ICA(45,data)\n",
    "image_plot(sources45,single_anode)"
   ]
  },
  {
   "cell_type": "code",
   "execution_count": 32,
   "metadata": {
    "collapsed": true
   },
   "outputs": [],
   "source": [
    "sources46=calc_ICA(46,data)\n",
    "image_plot(sources46,single_anode)\n",
    "#Tem 2 canais 23"
   ]
  },
  {
   "cell_type": "code",
   "execution_count": null,
   "metadata": {
    "collapsed": true
   },
   "outputs": [],
   "source": []
  },
  {
   "cell_type": "code",
   "execution_count": null,
   "metadata": {
    "collapsed": true
   },
   "outputs": [],
   "source": []
  },
  {
   "cell_type": "code",
   "execution_count": null,
   "metadata": {
    "collapsed": true
   },
   "outputs": [],
   "source": []
  },
  {
   "cell_type": "code",
   "execution_count": null,
   "metadata": {
    "collapsed": true
   },
   "outputs": [],
   "source": []
  },
  {
   "cell_type": "code",
   "execution_count": null,
   "metadata": {
    "collapsed": true
   },
   "outputs": [],
   "source": []
  }
 ],
 "metadata": {
  "kernelspec": {
   "display_name": "Python 2",
   "language": "python",
   "name": "python2"
  },
  "language_info": {
   "codemirror_mode": {
    "name": "ipython",
    "version": 2
   },
   "file_extension": ".py",
   "mimetype": "text/x-python",
   "name": "python",
   "nbconvert_exporter": "python",
   "pygments_lexer": "ipython2",
   "version": "2.7.15"
  }
 },
 "nbformat": 4,
 "nbformat_minor": 2
}
