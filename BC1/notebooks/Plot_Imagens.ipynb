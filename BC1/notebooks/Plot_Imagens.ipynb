{
 "cells": [
  {
   "cell_type": "code",
   "execution_count": 1,
   "metadata": {
    "collapsed": true
   },
   "outputs": [],
   "source": [
    "import numpy as np\n",
    "import matplotlib.pyplot as plt \n",
    "import matplotlib.ticker as ticker\n",
    "import heapq\n",
    "import os\n",
    "from decimal import Decimal\n",
    "np.set_printoptions(threshold=np.nan) \n",
    "home_path = os.getcwd().replace('BC1/notebooks','')\n",
    "import cPickle as pickle\n",
    "import pandas as pd\n",
    "from scipy.signal import find_peaks\n",
    "import json\n",
    "import matplotlib.animation as animation\n",
    "import copy\n",
    "import matplotlib as mpl\n",
    "from skimage.measure import compare_ssim as ssim\n"
   ]
  },
  {
   "cell_type": "code",
   "execution_count": 2,
   "metadata": {
    "collapsed": true
   },
   "outputs": [],
   "source": [
    "with open(\"separate_BC.json\", \"r\") as read_file:\n",
    "    json_file = json.load(read_file)\n",
    "name_json = json_file[\"file_name\"]\n",
    "split = name_json.split('.')\n",
    "run_number = split[1][2:7]"
   ]
  },
  {
   "cell_type": "code",
   "execution_count": 3,
   "metadata": {
    "collapsed": true
   },
   "outputs": [],
   "source": [
    "single_anode_channel = int(json_file[\"single_anode_channel\"])\n",
    "number_tubes_json = len(json_file[\"tubes\"])\n",
    "input_name_json = json_file[\"file_name\"]"
   ]
  },
  {
   "cell_type": "code",
   "execution_count": 4,
   "metadata": {
    "collapsed": true
   },
   "outputs": [],
   "source": [
    "#opening the file\n",
    "dictionary_path = home_path+'processed_data/Dados BC1/'\n",
    "file = open(dictionary_path+input_name_json+'_separate.pkl','rb')\n",
    "results = pickle.load(file)\n",
    "#Path to the channel reading mapping file\n",
    "map_path = home_path+'processed_data/Dados BC1/mapping.txt'"
   ]
  },
  {
   "cell_type": "code",
   "execution_count": 5,
   "metadata": {},
   "outputs": [
    {
     "name": "stderr",
     "output_type": "stream",
     "text": [
      "/home/Creison/miniconda2/lib/python2.7/site-packages/matplotlib/pyplot.py:537: RuntimeWarning: More than 20 figures have been opened. Figures created through the pyplot interface (`matplotlib.pyplot.figure`) are retained until explicitly closed and may consume too much memory. (To control this warning, see the rcParam `figure.max_open_warning`).\n",
      "  max_open_warning, RuntimeWarning)\n"
     ]
    }
   ],
   "source": [
    "pixel_map = np.loadtxt(map_path)\n",
    "# nested loop for the grid of pixels\n",
    "#\n",
    "for i in range(8):\n",
    "    for j in range(8):\n",
    "        if pixel_map[i, j] != 0:\n",
    "            n=int(pixel_map[i,j]-1)\n",
    "          \n",
    "            \n",
    "            \n",
    "            plt.figure(figsize=(15,15))\n",
    "            plt.suptitle(\"Channels BC1 Pixel \"+str(n+1))\n",
    "            \n",
    "            plt.subplot(331)\n",
    "            plt.plot(results[\"DataB\"][\"data\"][0][:,n])\n",
    "            plt.plot(results[\"DataB\"][\"data\"][0][:,2])\n",
    "            plt.title(\"Data B Tube 4\")\n",
    "\n",
    "        \n",
    "            plt.subplot(332)\n",
    "            plt.plot(results[\"DataB\"][\"data\"][1][:,n])\n",
    "            plt.plot(results[\"DataB\"][\"data\"][1][:,2])\n",
    "            plt.title(\"Data B Tube 5\")\n",
    "            \n",
    "            plt.subplot(333)\n",
    "            plt.plot(results[\"DataB\"][\"data\"][2][:,n])\n",
    "            plt.plot(results[\"DataB\"][\"data\"][2][:,2])\n",
    "            plt.title(\"Data B Tube 6\")\n",
    "            \n",
    "\n",
    "            plt.subplot(334)\n",
    "            plt.plot(results[\"DataC\"][\"data\"][0][:,n])\n",
    "            plt.plot(results[\"DataC\"][\"data\"][0][:,2])\n",
    "            plt.title(\"Data C Tube 7\")\n",
    "            \n",
    "            plt.subplot(335)\n",
    "            plt.plot(results[\"DataC\"][\"data\"][1][:,n])\n",
    "            plt.plot(results[\"DataC\"][\"data\"][1][:,2])\n",
    "            plt.title(\"Data C Tube 8\")\n",
    "\n",
    "            plt.subplot(336)\n",
    "            plt.plot(results[\"DataC\"][\"data\"][2][:,n])\n",
    "            plt.plot(results[\"DataC\"][\"data\"][2][:,2])\n",
    "            plt.title(\"Data C Tube 9\")\n",
    "            \n",
    "            #plt.savefig(home_path+\"BC1/analysis/CS10706F/Channels/channel\"+str(int(pixel_map[i,j]))+\".png\", bbox_inches='tight')\n",
    "            plt.clf()\n",
    "            \n"
   ]
  },
  {
   "cell_type": "code",
   "execution_count": 6,
   "metadata": {},
   "outputs": [
    {
     "data": {
      "text/plain": [
       "<Figure size 1080x1080 with 0 Axes>"
      ]
     },
     "metadata": {},
     "output_type": "display_data"
    },
    {
     "data": {
      "text/plain": [
       "<Figure size 1080x1080 with 0 Axes>"
      ]
     },
     "metadata": {},
     "output_type": "display_data"
    },
    {
     "data": {
      "text/plain": [
       "<Figure size 1080x1080 with 0 Axes>"
      ]
     },
     "metadata": {},
     "output_type": "display_data"
    },
    {
     "data": {
      "text/plain": [
       "<Figure size 1080x1080 with 0 Axes>"
      ]
     },
     "metadata": {},
     "output_type": "display_data"
    },
    {
     "data": {
      "text/plain": [
       "<Figure size 1080x1080 with 0 Axes>"
      ]
     },
     "metadata": {},
     "output_type": "display_data"
    },
    {
     "data": {
      "text/plain": [
       "<Figure size 1080x1080 with 0 Axes>"
      ]
     },
     "metadata": {},
     "output_type": "display_data"
    },
    {
     "data": {
      "text/plain": [
       "<Figure size 1080x1080 with 0 Axes>"
      ]
     },
     "metadata": {},
     "output_type": "display_data"
    },
    {
     "data": {
      "text/plain": [
       "<Figure size 1080x1080 with 0 Axes>"
      ]
     },
     "metadata": {},
     "output_type": "display_data"
    },
    {
     "data": {
      "text/plain": [
       "<Figure size 1080x1080 with 0 Axes>"
      ]
     },
     "metadata": {},
     "output_type": "display_data"
    },
    {
     "data": {
      "text/plain": [
       "<Figure size 1080x1080 with 0 Axes>"
      ]
     },
     "metadata": {},
     "output_type": "display_data"
    },
    {
     "data": {
      "text/plain": [
       "<Figure size 1080x1080 with 0 Axes>"
      ]
     },
     "metadata": {},
     "output_type": "display_data"
    },
    {
     "data": {
      "text/plain": [
       "<Figure size 1080x1080 with 0 Axes>"
      ]
     },
     "metadata": {},
     "output_type": "display_data"
    },
    {
     "data": {
      "text/plain": [
       "<Figure size 1080x1080 with 0 Axes>"
      ]
     },
     "metadata": {},
     "output_type": "display_data"
    },
    {
     "data": {
      "text/plain": [
       "<Figure size 1080x1080 with 0 Axes>"
      ]
     },
     "metadata": {},
     "output_type": "display_data"
    },
    {
     "data": {
      "text/plain": [
       "<Figure size 1080x1080 with 0 Axes>"
      ]
     },
     "metadata": {},
     "output_type": "display_data"
    },
    {
     "data": {
      "text/plain": [
       "<Figure size 1080x1080 with 0 Axes>"
      ]
     },
     "metadata": {},
     "output_type": "display_data"
    },
    {
     "data": {
      "text/plain": [
       "<Figure size 1080x1080 with 0 Axes>"
      ]
     },
     "metadata": {},
     "output_type": "display_data"
    },
    {
     "data": {
      "text/plain": [
       "<Figure size 1080x1080 with 0 Axes>"
      ]
     },
     "metadata": {},
     "output_type": "display_data"
    },
    {
     "data": {
      "text/plain": [
       "<Figure size 1080x1080 with 0 Axes>"
      ]
     },
     "metadata": {},
     "output_type": "display_data"
    },
    {
     "data": {
      "text/plain": [
       "<Figure size 1080x1080 with 0 Axes>"
      ]
     },
     "metadata": {},
     "output_type": "display_data"
    },
    {
     "data": {
      "text/plain": [
       "<Figure size 1080x1080 with 0 Axes>"
      ]
     },
     "metadata": {},
     "output_type": "display_data"
    },
    {
     "data": {
      "text/plain": [
       "<Figure size 1080x1080 with 0 Axes>"
      ]
     },
     "metadata": {},
     "output_type": "display_data"
    },
    {
     "data": {
      "text/plain": [
       "<Figure size 1080x1080 with 0 Axes>"
      ]
     },
     "metadata": {},
     "output_type": "display_data"
    },
    {
     "data": {
      "text/plain": [
       "<Figure size 1080x1080 with 0 Axes>"
      ]
     },
     "metadata": {},
     "output_type": "display_data"
    },
    {
     "data": {
      "text/plain": [
       "<Figure size 1080x1080 with 0 Axes>"
      ]
     },
     "metadata": {},
     "output_type": "display_data"
    },
    {
     "data": {
      "text/plain": [
       "<Figure size 1080x1080 with 0 Axes>"
      ]
     },
     "metadata": {},
     "output_type": "display_data"
    },
    {
     "data": {
      "text/plain": [
       "<Figure size 1080x1080 with 0 Axes>"
      ]
     },
     "metadata": {},
     "output_type": "display_data"
    },
    {
     "data": {
      "text/plain": [
       "<Figure size 1080x1080 with 0 Axes>"
      ]
     },
     "metadata": {},
     "output_type": "display_data"
    },
    {
     "data": {
      "text/plain": [
       "<Figure size 1080x1080 with 0 Axes>"
      ]
     },
     "metadata": {},
     "output_type": "display_data"
    },
    {
     "data": {
      "text/plain": [
       "<Figure size 1080x1080 with 0 Axes>"
      ]
     },
     "metadata": {},
     "output_type": "display_data"
    },
    {
     "data": {
      "text/plain": [
       "<Figure size 1080x1080 with 0 Axes>"
      ]
     },
     "metadata": {},
     "output_type": "display_data"
    },
    {
     "data": {
      "text/plain": [
       "<Figure size 1080x1080 with 0 Axes>"
      ]
     },
     "metadata": {},
     "output_type": "display_data"
    },
    {
     "data": {
      "text/plain": [
       "<Figure size 1080x1080 with 0 Axes>"
      ]
     },
     "metadata": {},
     "output_type": "display_data"
    },
    {
     "data": {
      "text/plain": [
       "<Figure size 1080x1080 with 0 Axes>"
      ]
     },
     "metadata": {},
     "output_type": "display_data"
    },
    {
     "data": {
      "text/plain": [
       "<Figure size 1080x1080 with 0 Axes>"
      ]
     },
     "metadata": {},
     "output_type": "display_data"
    },
    {
     "data": {
      "text/plain": [
       "<Figure size 1080x1080 with 0 Axes>"
      ]
     },
     "metadata": {},
     "output_type": "display_data"
    },
    {
     "data": {
      "text/plain": [
       "<Figure size 1080x1080 with 0 Axes>"
      ]
     },
     "metadata": {},
     "output_type": "display_data"
    },
    {
     "data": {
      "text/plain": [
       "<Figure size 1080x1080 with 0 Axes>"
      ]
     },
     "metadata": {},
     "output_type": "display_data"
    },
    {
     "data": {
      "text/plain": [
       "<Figure size 1080x1080 with 0 Axes>"
      ]
     },
     "metadata": {},
     "output_type": "display_data"
    },
    {
     "data": {
      "text/plain": [
       "<Figure size 1080x1080 with 0 Axes>"
      ]
     },
     "metadata": {},
     "output_type": "display_data"
    },
    {
     "data": {
      "text/plain": [
       "<Figure size 1080x1080 with 0 Axes>"
      ]
     },
     "metadata": {},
     "output_type": "display_data"
    },
    {
     "data": {
      "text/plain": [
       "<Figure size 1080x1080 with 0 Axes>"
      ]
     },
     "metadata": {},
     "output_type": "display_data"
    },
    {
     "data": {
      "text/plain": [
       "<Figure size 1080x1080 with 0 Axes>"
      ]
     },
     "metadata": {},
     "output_type": "display_data"
    },
    {
     "data": {
      "text/plain": [
       "<Figure size 1080x1080 with 0 Axes>"
      ]
     },
     "metadata": {},
     "output_type": "display_data"
    },
    {
     "data": {
      "text/plain": [
       "<Figure size 1080x1080 with 0 Axes>"
      ]
     },
     "metadata": {},
     "output_type": "display_data"
    },
    {
     "data": {
      "text/plain": [
       "<Figure size 1080x1080 with 0 Axes>"
      ]
     },
     "metadata": {},
     "output_type": "display_data"
    },
    {
     "data": {
      "image/png": "[encoded data removed]",
      "text/plain": [
       "<Figure size 1080x1080 with 6 Axes>"
      ]
     },
     "metadata": {},
     "output_type": "display_data"
    }
   ],
   "source": [
    "plt.clf()\n",
    "plt.figure(figsize=(15,15))\n",
    "\n",
    "plt.subplot(331)\n",
    "plt.plot(results[\"DataB\"][\"data\"][0][:,2])\n",
    "\n",
    "plt.subplot(332)\n",
    "plt.plot(results[\"DataB\"][\"data\"][1][:,2])\n",
    "\n",
    "plt.subplot(333)\n",
    "plt.plot(results[\"DataB\"][\"data\"][2][:,2])\n",
    "\n",
    "\n",
    "plt.subplot(334)\n",
    "plt.plot(results[\"DataC\"][\"data\"][0][:,2])\n",
    "\n",
    "plt.subplot(335)\n",
    "plt.plot(results[\"DataC\"][\"data\"][1][:,2])\n",
    "\n",
    "plt.subplot(336)\n",
    "plt.plot(results[\"DataC\"][\"data\"][2][:,2])\n",
    "plt.show()"
   ]
  },
  {
   "cell_type": "code",
   "execution_count": 7,
   "metadata": {
    "collapsed": true
   },
   "outputs": [],
   "source": [
    "def min_max_value(results):\n",
    "    max_value = None\n",
    "    min_value = (not None)\n",
    "    cont = 0\n",
    "    cells_name = results.keys()\n",
    "    for name in cells_name:\n",
    "        for n_tubes in range(3):\n",
    "            if (max_value < results[name][\"tensor\"][n_tubes].max() ):\n",
    "                max_value = results[name][\"tensor\"][n_tubes].max()\n",
    "                \n",
    "            if (min_value > np.sort(results[name][\"tensor\"][n_tubes], axis=None)[np.sort(results[name][\"tensor\"][n_tubes], axis=None) !=0][0] or cont==0):\n",
    "                min_value = np.sort(results[name][\"tensor\"][n_tubes], axis=None)[np.sort(results[name][\"tensor\"][n_tubes], axis=None) !=0][0]\n",
    "                cont+=1\n",
    "    value = [min_value,max_value]\n",
    "    return value "
   ]
  },
  {
   "cell_type": "code",
   "execution_count": 8,
   "metadata": {
    "collapsed": true
   },
   "outputs": [],
   "source": [
    "min_max_value = min_max_value(results)"
   ]
  },
  {
   "cell_type": "code",
   "execution_count": 9,
   "metadata": {},
   "outputs": [
    {
     "data": {
      "text/plain": [
       "[331.0, 753.0]"
      ]
     },
     "execution_count": 9,
     "metadata": {},
     "output_type": "execute_result"
    }
   ],
   "source": [
    "min_max_value"
   ]
  },
  {
   "cell_type": "code",
   "execution_count": 10,
   "metadata": {
    "collapsed": true
   },
   "outputs": [],
   "source": [
    "def med_value(results):\n",
    "    max_value = None\n",
    "    min_value = (not None)\n",
    "    cont=0\n",
    "    cells_name = results.keys()\n",
    "    for name in cells_name:\n",
    "        contador = 0;\n",
    "        media = np.zeros(shape=(8,8))\n",
    "        for n_tubes in range(3):\n",
    "            for l in range(results[name][\"tensor\"][n_tubes].shape[2]):\n",
    "                media += results[name][\"tensor\"][n_tubes][:,:,l]\n",
    "                \n",
    "            contador += results[name][\"tensor\"][n_tubes].shape[2]            \n",
    "        media = media/contador\n",
    "        \n",
    "        if (max_value < media.max() ):\n",
    "            max_value = media.max()\n",
    "        if (min_value > np.sort(media, axis=None)[np.sort(media, axis=None) !=0][0] or cont==0):\n",
    "            cont+=1\n",
    "            min_value = np.sort(media, axis=None)[np.sort(media, axis=None) !=0][0]\n",
    "    \n",
    "    value = [min_value,max_value]\n",
    "    return value "
   ]
  },
  {
   "cell_type": "code",
   "execution_count": 11,
   "metadata": {
    "collapsed": true
   },
   "outputs": [],
   "source": [
    "med_value = med_value(results)"
   ]
  },
  {
   "cell_type": "code",
   "execution_count": 12,
   "metadata": {},
   "outputs": [
    {
     "data": {
      "text/plain": [
       "[332.0514579759863, 456.77818181818179]"
      ]
     },
     "execution_count": 12,
     "metadata": {},
     "output_type": "execute_result"
    }
   ],
   "source": [
    "med_value"
   ]
  },
  {
   "cell_type": "code",
   "execution_count": 13,
   "metadata": {
    "collapsed": true
   },
   "outputs": [],
   "source": [
    "def generate_images(results,name_json,min_max):\n",
    "    \"\"\"\n",
    "        Private method creating a vector image in a chosen folder\n",
    "        Only for create image\n",
    "        \n",
    "        Args:\n",
    "        ----\n",
    "        map_file (str): complete path to where the images will be generated\n",
    "\n",
    "        Returns:\n",
    "        Image\n",
    "        -------\n",
    "        \n",
    "    \"\"\"\n",
    "    cells_name = results.keys()\n",
    "    split = name_json.split('.')\n",
    "    run_number = split[1][2:7]\n",
    "\n",
    "\n",
    "        #Method to generate the images\n",
    "    for name in cells_name:\n",
    " \n",
    "        fig, ax = plt.subplots(figsize=(15,15))\n",
    "        #create colorbar\n",
    "        rm = plt.cm.ScalarMappable(cmap='jet',norm=plt.Normalize(vmin=min_max[0],vmax=min_max[1]))\n",
    "        rm._A = []\n",
    "        cb=plt.colorbar(rm)\n",
    "        cb.ax.tick_params(labelsize=15)\n",
    "        tick_locator = ticker.MaxNLocator(nbins=8)\n",
    "        cb.locator = tick_locator\n",
    "        cb.update_ticks()\n",
    "        \n",
    "        path= home_path+'BC1/analysis/CS'+run_number+'F/separate_cells_BC/'+name\n",
    "        imagens = []\n",
    "        for n_tubes in range(1):\n",
    "            for l in range(results[name][\"tensor\"][n_tubes].shape[2]):\n",
    "        \n",
    "                \n",
    "                #ma_pmt_image receives array from imported file after passing through \"create image\"\n",
    "                ma_pmt_image = results[name][\"tensor\"][n_tubes][:,:,l]\n",
    "                \n",
    "\n",
    "                #Create the image\n",
    "                im = ax.matshow(ma_pmt_image,cmap='jet' , vmin=min_max[0], vmax=min_max[1])\n",
    "                X= str(l+1)\n",
    "\n",
    "                \n",
    "                #Sets image margins size\n",
    "                plt.title(\"# Pixel Map Cell \"+name[4]+\" Tube \"+ str(n_tubes+1) +\" Image \"+X , fontsize = 25)\n",
    "                plt.xticks([])\n",
    "                plt.yticks([])\n",
    "                plt.xlabel(\"Pixels X\",fontsize=20)\n",
    "                plt.ylabel(\"Pixels Y\",fontsize=20)\n",
    "                \n",
    "                \n",
    "                imagens.append([im])\n",
    "                #plt.savefig(path+'/Imagem_Tube_'+ str(n_tubes+1)+'_Image_'+X+'.png', bbox_inches='tight')\n",
    "                \n",
    "\n",
    "                \n",
    "        plt.title(\"# Pixel Map Cell \"+name[4] , fontsize = 25)\n",
    "        \n",
    "        animate = animation.ArtistAnimation(fig, imagens, interval=50, blit=True,repeat = False)\n",
    "        \n",
    "        path_video = path.replace(name,'')\n",
    "        \n",
    "        #animate.save(path_video+\"/Video_Tube_\"+name+\".gif\")        \n",
    "        plt.clf()\n",
    "\n",
    "        print name \n"
   ]
  },
  {
   "cell_type": "code",
   "execution_count": 14,
   "metadata": {},
   "outputs": [
    {
     "name": "stdout",
     "output_type": "stream",
     "text": [
      "DataC\n",
      "DataB\n"
     ]
    }
   ],
   "source": [
    "generate_images(results,input_name_json,min_max_value)"
   ]
  },
  {
   "cell_type": "code",
   "execution_count": 15,
   "metadata": {
    "collapsed": true
   },
   "outputs": [],
   "source": [
    "def plot_max_value(results,name_json,min_max):\n",
    "\n",
    "    cells_name=results.keys()\n",
    "    lista = np.zeros(shape=(8,8))\n",
    "    split = name_json.split('.')\n",
    "    run_number = split[1][2:7]\n",
    "    for name in cells_name:\n",
    "        sum_list = np.zeros(shape=(8,8))\n",
    "        path= home_path+'BC1/analysis/CS'+run_number+'F/separate_cells_BC/'+name\n",
    "        for n_tubes in range(3):     \n",
    "            for l in range(results[name][\"tensor\"][n_tubes].shape[2]):\n",
    "                \n",
    "                for i in range(8):\n",
    "                    for j in range(8):\n",
    "                        if (lista[i][j] < results[name][\"tensor\"][n_tubes][:,:,l][i][j]):\n",
    "                            lista[i][j] = results[name][\"tensor\"][n_tubes][:,:,l][i][j]\n",
    "            \n",
    "          \n",
    "            #lista2 = (lista - min_max[0])/(min_max[1]-min_max[0])\n",
    "            lista2 = np.ma.masked_where(lista == 0, lista)\n",
    "            #Create the image\n",
    "            fig, ax = plt.subplots(figsize=(15,15))\n",
    "            #create colorbar\n",
    "            rm = plt.cm.ScalarMappable(cmap='jet',norm=plt.Normalize(vmin=min_max[0],vmax=min_max[1]))\n",
    "            rm._A = []\n",
    "            cb=plt.colorbar(rm)\n",
    "            cb.ax.tick_params(labelsize=15)\n",
    "            tick_locator = ticker.MaxNLocator(nbins=8)\n",
    "            cb.locator = tick_locator\n",
    "            cb.update_ticks()\n",
    "            im = ax.matshow(lista2,cmap='jet' , vmin=min_max[0], vmax=min_max[1])\n",
    "            X= str(l+1)\n",
    "            \n",
    "            for (i, j), z in np.ndenumerate(lista2):\n",
    "                ax.text(j, i, '{:0.2f}'.format(z), ha='center', va='center')\n",
    "            \n",
    "            if (name==\"DataB\"):\n",
    "                number=3\n",
    "            else:\n",
    "                number=6\n",
    "            \n",
    "            #Sets image margins size\n",
    "            plt.title(\"# Pixel Map Cell \"+ name[4] +\" Tube \"+ str(number+n_tubes+1), fontsize = 25)\n",
    "            plt.xticks([])\n",
    "            plt.yticks([])\n",
    "            plt.xlabel(\"Pixels X\",fontsize=20)\n",
    "            plt.ylabel(\"Pixels Y\",fontsize=20)\n",
    "\n",
    "            plt.savefig(path+'/Image_Cell '+name[4]+' Tube_'+ str(number+n_tubes+1)+'.png', bbox_inches='tight')\n",
    "            \n",
    "            sum_list += lista2\n",
    "              \n",
    "            \n",
    "        sum_list = sum_list/3\n",
    "        sum_list2 = np.ma.masked_where(sum_list == 0, sum_list)\n",
    "#####################################################################################################        \n",
    " \n",
    "        \n",
    "        #Create the image average maximums\n",
    "        fig, ax = plt.subplots(figsize=(15,15))\n",
    "        #create colorbar\n",
    "        rm = plt.cm.ScalarMappable(cmap='jet',norm=plt.Normalize(vmin=min_max[0],vmax=min_max[1]))\n",
    "        rm._A = []\n",
    "        cb=plt.colorbar(rm)\n",
    "        cb.ax.tick_params(labelsize=15)\n",
    "        tick_locator = ticker.MaxNLocator(nbins=8)\n",
    "        cb.locator = tick_locator\n",
    "        cb.update_ticks()\n",
    "        im = ax.matshow(sum_list2, vmin=min_max[0], vmax=min_max[1])\n",
    "        X= str(l+1)\n",
    "            \n",
    "        for (i, j), z in np.ndenumerate(sum_list2):\n",
    "            ax.text(j, i, '{:0.2f}'.format(z), ha='center', va='center')\n",
    "            \n",
    "            \n",
    "        #Sets image margins size\n",
    "        plt.title(\"# Pixel Map Average Maximums Cell \"+ name[4], fontsize = 25)\n",
    "        plt.xticks([])\n",
    "        plt.yticks([])\n",
    "        plt.xlabel(\"Pixels X\",fontsize=20)\n",
    "        plt.ylabel(\"Pixels Y\",fontsize=20)\n",
    "\n",
    "        plt.savefig(path+'/Image_Average_Maximums_Cell'+name[4]+'.png', bbox_inches='tight')\n",
    "        plt.clf()   # Clear figure\n",
    "\n",
    "        "
   ]
  },
  {
   "cell_type": "code",
   "execution_count": 16,
   "metadata": {},
   "outputs": [],
   "source": [
    "plot_max_value(results,input_name_json,min_max_value)"
   ]
  },
  {
   "cell_type": "code",
   "execution_count": 17,
   "metadata": {
    "collapsed": true
   },
   "outputs": [],
   "source": [
    "def plot_mean_global(results,name_json,med_value):\n",
    "    \n",
    "    \n",
    "    \n",
    "    lista = np.zeros(shape=(8,8))\n",
    "    split = name_json.split('.')\n",
    "    run_number = split[1][2:7]  \n",
    "    \n",
    "    cells_name = results.keys()\n",
    "    median = np.zeros(shape=(8,8))\n",
    "    \n",
    "    for name in cells_name:\n",
    "        \n",
    "        media = np.zeros(shape=(8,8))\n",
    "        contador = 0\n",
    "        \n",
    "\n",
    "        path= home_path+'BC1/analysis/CS'+run_number+'F/separate_cells_BC/'+name\n",
    "        \n",
    "        for n_tubes in range(3):\n",
    "        \n",
    "            for l in range(results[name][\"tensor\"][n_tubes].shape[2]):\n",
    "                media += results[name][\"tensor\"][n_tubes][:,:,l]\n",
    "                \n",
    "            contador += results[name][\"tensor\"][n_tubes].shape[2]\n",
    "    \n",
    "\n",
    "  \n",
    "        media = media/contador\n",
    "        #media2= (media - med_value[0])/(med_value[1]-med_value[0])\n",
    "        media2 = np.ma.masked_where(media == 0, media)\n",
    "        median = np.dstack((median, media))\n",
    "        \n",
    "#####################################################################################################        \n",
    "        #Create the image global mean\n",
    "        fig, ax = plt.subplots(figsize=(15,15))\n",
    "        #create colorbar\n",
    "        rm = plt.cm.ScalarMappable(cmap='jet',norm=plt.Normalize(vmin=med_value[0],vmax=med_value[1]))\n",
    "        rm._A = []\n",
    "        cb=plt.colorbar(rm)\n",
    "        cb.ax.tick_params(labelsize=15)\n",
    "        tick_locator = ticker.MaxNLocator(nbins=8)\n",
    "        cb.locator = tick_locator\n",
    "        cb.update_ticks()\n",
    "        im = ax.matshow(media2,cmap='jet' , vmin=med_value[0], vmax=med_value[1])\n",
    "        X= str(l+1)\n",
    "            \n",
    "        for (i, j), z in np.ndenumerate(media2):\n",
    "            ax.text(j, i, '{:0.2f}'.format(z), ha='center', va='center')\n",
    "            \n",
    "            \n",
    "        #Sets image margins size\n",
    "        plt.title(\"# Pixel Map Global Mean Cell \"+ name[4], fontsize = 25)\n",
    "        plt.xticks([])\n",
    "        plt.yticks([])\n",
    "        plt.xlabel(\"Pixels X\",fontsize=20)\n",
    "        plt.ylabel(\"Pixels Y\",fontsize=20)\n",
    "\n",
    "        plt.savefig(path+'/Image_Global_Mean_Cell'+name[4]+'.png', bbox_inches='tight')\n",
    "    \n",
    "    return median"
   ]
  },
  {
   "cell_type": "code",
   "execution_count": 18,
   "metadata": {},
   "outputs": [],
   "source": [
    "t=plot_mean_global(results,input_name_json,med_value)"
   ]
  },
  {
   "cell_type": "code",
   "execution_count": 19,
   "metadata": {
    "collapsed": true
   },
   "outputs": [],
   "source": [
    "path= home_path+'BC1/analysis/CS'+run_number+'F/separate_cells_BC/'"
   ]
  },
  {
   "cell_type": "code",
   "execution_count": 20,
   "metadata": {
    "collapsed": true
   },
   "outputs": [],
   "source": [
    "def compare_images(imageA, imageB , path = path,med_value=med_value):\n",
    "    # compute the mean squared error and structural similarity\n",
    "    # index for the images\n",
    "    #m = mse(imageA, imageB)\n",
    "    s = ssim(imageA, imageB, multichannel = True)\n",
    "\n",
    "    imageA2 = np.ma.masked_where(imageA == 0, imageA)\n",
    "    imageB2 = np.ma.masked_where(imageB == 0, imageB)\n",
    "    # setup the figure\n",
    "    fig = plt.figure(figsize=(25, 15))\n",
    "    plt.title(\"# DataB vs. DataC \", fontsize = 25)\n",
    "    plt.axis(\"off\")\n",
    "    #plt.suptitle(\"MSE: %.2f, SSIM: %.2f\" % (m, s), fontsize = 15)\n",
    "    plt.suptitle(\"SSIM: %.2f\" % (s), fontsize = 15)\n",
    "    \n",
    "    # show first image\n",
    "    fig.add_subplot(1, 2, 1)\n",
    "    plt.imshow(imageA2, cmap = 'jet',vmin=med_value[0], vmax=med_value[1])\n",
    "    plt.colorbar()\n",
    "    for (i, j), z in np.ndenumerate(imageA2):\n",
    "        plt.text(j, i, '{:0.2f}'.format(z), ha='center', va='center')\n",
    "    plt.axis(\"off\")\n",
    "    \n",
    "    # show the second image\n",
    "    fig.add_subplot(1, 2, 2)\n",
    "    plt.imshow(imageB2, cmap = 'jet',vmin=med_value[0], vmax=med_value[1])\n",
    "    plt.colorbar()\n",
    "    for (i, j), z in np.ndenumerate(imageB2):\n",
    "        plt.text(j, i, '{:0.2f}'.format(z), ha='center', va='center')\n",
    "    plt.axis(\"off\")\n",
    "\n",
    "    \n",
    "    \n",
    "\n",
    "    plt.savefig(path+'compare_images_ssim.png', bbox_inches='tight')\n",
    "    # show the images"
   ]
  },
  {
   "cell_type": "code",
   "execution_count": 21,
   "metadata": {},
   "outputs": [],
   "source": [
    "compare_images(t[:,:,1],t[:,:,2])"
   ]
  },
  {
   "cell_type": "code",
   "execution_count": 22,
   "metadata": {},
   "outputs": [
    {
     "name": "stdout",
     "output_type": "stream",
     "text": [
      "SSIM: 0.942693309675\n"
     ]
    }
   ],
   "source": [
    "score, diff = ssim(t[:,:,1], t[:,:,2], full=True,  multichannel=True,data_range=med_value[1]-med_value[0])\n",
    "print(\"SSIM: {}\".format(score))"
   ]
  },
  {
   "cell_type": "code",
   "execution_count": 23,
   "metadata": {},
   "outputs": [
    {
     "data": {
      "text/plain": [
       "array([[ 0.99999914,  0.99999923,  0.99988091,  0.33533632,  0.9071146 ,\n",
       "         0.99607442,  0.99843908,  0.99972705],\n",
       "       [ 0.99999833,  0.99998719,  0.99965369,  0.69713761,  0.92492545,\n",
       "         0.99376102,  0.99673714,  0.99956069],\n",
       "       [ 0.99999833,  0.99988942,  0.99960563,  0.835617  ,  0.89327001,\n",
       "         0.99105795,  0.99442449,  0.99956017],\n",
       "       [ 0.99999833,  0.99861301,  0.99862822,  0.80959057,  0.83091869,\n",
       "         0.98163827,  0.99035544,  0.99956017],\n",
       "       [ 0.99999833,  0.99861301,  0.99862822,  0.82472924,  0.68026759,\n",
       "         0.98163827,  0.99035544,  0.99956017],\n",
       "       [ 0.99999833,  0.99915022,  0.99907904,  0.86350617,  0.6481555 ,\n",
       "         0.98947893,  0.99401523,  0.99956017],\n",
       "       [ 0.9999971 ,  0.99852329,  0.99865752,  0.85011889,  0.80512283,\n",
       "         0.99058731,  0.99523537,  0.99956017],\n",
       "       [ 0.99999773,  0.99842215,  0.99858585,  0.856194  ,  0.91559764,\n",
       "         0.99269694,  0.99415345,  0.99950705]])"
      ]
     },
     "execution_count": 23,
     "metadata": {},
     "output_type": "execute_result"
    }
   ],
   "source": [
    "diff"
   ]
  },
  {
   "cell_type": "code",
   "execution_count": null,
   "metadata": {
    "collapsed": true
   },
   "outputs": [],
   "source": []
  }
 ],
 "metadata": {
  "kernelspec": {
   "display_name": "Python 2",
   "language": "python",
   "name": "python2"
  },
  "language_info": {
   "codemirror_mode": {
    "name": "ipython",
    "version": 2
   },
   "file_extension": ".py",
   "mimetype": "text/x-python",
   "name": "python",
   "nbconvert_exporter": "python",
   "pygments_lexer": "ipython2",
   "version": "2.7.15"
  }
 },
 "nbformat": 4,
 "nbformat_minor": 2
}
