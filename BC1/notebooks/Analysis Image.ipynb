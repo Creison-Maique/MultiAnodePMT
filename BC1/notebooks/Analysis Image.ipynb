{
 "cells": [
  {
   "cell_type": "code",
   "execution_count": 14,
   "metadata": {},
   "outputs": [
    {
     "name": "stdout",
     "output_type": "stream",
     "text": [
      "Sources 03\n",
      "Sources 04\n",
      "Sources 05\n",
      "Sources 06\n",
      "Sources 07\n",
      "Sources 08\n",
      "Sources 09\n",
      "Sources 48\n",
      "Sources 64\n"
     ]
    }
   ],
   "source": [
    "%run 'FastICA.ipynb'\n"
   ]
  },
  {
   "cell_type": "code",
   "execution_count": 22,
   "metadata": {
    "collapsed": true
   },
   "outputs": [],
   "source": [
    "data_array = separate_peaks[0]"
   ]
  },
  {
   "cell_type": "code",
   "execution_count": 36,
   "metadata": {},
   "outputs": [],
   "source": [
    "\n",
    "    \n",
    "if (algorithm=='deflation'):\n",
    "    def path_image_analysis_serpentina(number,cont):\n",
    "        #number=Number of components that were used in the function \"calc_ICA\"\n",
    "        N=str(number)\n",
    "        if cont==1:\n",
    "            analysis_image_path = home_path+'/BC1/analysis/'+data_region+'/FastICA/'+N+'_Sources/serpentine_method/Analysis/3_Warmer_Pixels' \n",
    "        if cont==2:\n",
    "            analysis_image_path = home_path+'/BC1/analysis/'+data_region+'/FastICA/'+N+'_Sources/serpentine_method/Analysis/50_ of the value of the Warmer Pixels' \n",
    "\n",
    "        return analysis_image_path\n",
    "    "
   ]
  },
  {
   "cell_type": "code",
   "execution_count": 16,
   "metadata": {
    "collapsed": true
   },
   "outputs": [],
   "source": [
    "def highest_N_value(array,number):\n",
    "    #Returns the highest values\n",
    "    \"\"\"\n",
    "        Private method that returns the N highest values\n",
    "        \n",
    "        Args:\n",
    "        ----\n",
    "        array(array): Matrix returned by function \"calc_ICA\"\n",
    "        number(int)= Number of values to be returned\n",
    "        -------\n",
    "        Returns:\n",
    "        result(array)=The N_highest values\n",
    "        returnArgs(array)=The index of highest values\n",
    "    \"\"\"  \n",
    "    #Return the largest n elements\n",
    "    result=heapq.nlargest(number,array)\n",
    "    resultArgs=map(array.tolist().index, heapq.nlargest(number,array))\n",
    "    return result,resultArgs"
   ]
  },
  {
   "cell_type": "code",
   "execution_count": 17,
   "metadata": {
    "collapsed": true
   },
   "outputs": [],
   "source": [
    "def count_number_highest_value (matrix):\n",
    "    \n",
    "    #It counts all values greater than 50% of the highest value\n",
    "    y=np.amax(matrix)*0.5\n",
    "    count = sum(x > y for x in matrix )\n",
    "    return count"
   ]
  },
  {
   "cell_type": "code",
   "execution_count": 33,
   "metadata": {
    "collapsed": true
   },
   "outputs": [],
   "source": [
    "def analysis_image(method,source): \n",
    "    \"\"\"\n",
    "        Private method that creates images of the most significant N channelss\n",
    "        \n",
    "        Args:\n",
    "        ----\n",
    "        \n",
    "        Method(string)='Serpentine' or 'Patches'\n",
    "        source(array)= Matrix returned by function \"calc_ICA\"\n",
    "      \n",
    "        \n",
    "        \n",
    "        Returns:\n",
    "        Image\n",
    "        -------\n",
    "        Returns:\n",
    "        Image\n",
    "    \"\"\"  \n",
    "    #seletor select folder\n",
    "    for seletor in range(1, 3):\n",
    "\n",
    "        number_sources=source.shape[0]\n",
    "        total_sum=np.zeros(len(data_array))\n",
    "        for cont in range(number_sources):\n",
    "            #Define soma \n",
    "            soma=np.zeros(len(data_array))\n",
    "\n",
    "            #position in the vector desvector\n",
    "            channel=np.array([])\n",
    "            comparator=np.array(range(64))\n",
    "\n",
    "            if (method=='Serpentine'):\n",
    "                    #Use desvetor_serpentina in matshow\n",
    "                    T=desvector_serpentina(comparator)\n",
    "\n",
    "            if(method=='Patches'):\n",
    "                    #Use desvetor_patches in matshow\n",
    "                    T=desvector_patches(ordem,comparator)\n",
    "\n",
    "            if seletor==1:\n",
    "                N_highest_values = 3\n",
    "\n",
    "            if seletor==2:\n",
    "                N_highest_values = count_number_highest_value(source[cont])\n",
    "\n",
    "            for num in range(N_highest_values):\n",
    "                results=highest_N_value(source[cont],N_highest_values)\n",
    "\n",
    "\n",
    "                #Create the image\n",
    "                if (method=='Serpentine'):\n",
    "                    #Use desvetor_serpentina in matshow\n",
    "                    Matrix=desvector_serpentina(source[cont])\n",
    "                    path=path_image_analysis_serpentina(number_sources,seletor)\n",
    "                if(method=='Patches'):\n",
    "                    #Use desvetor_patches in matshow\n",
    "                    Matrix=desvector_patches(ordem,source[cont])\n",
    "                    path=path_image_analysis_patches(number_sources,seletor)\n",
    "\n",
    "                #position in the matrix 8X8\n",
    "                position=np.argwhere(T==(results[1][num]))\n",
    "\n",
    "                #Hottest pixel channel number\n",
    "                channel=np.append(channel,(pixel_map[position[0][0],position[0][1]]))\n",
    "\n",
    "\n",
    "            plt.figure(figsize=(15,10))\n",
    "            plt.plot(data_array[:,2],label='Single-Anode PMT' )\n",
    "\n",
    "            for num1 in range(N_highest_values):\n",
    "                if channel[num1]!=0:\n",
    "                    plt.plot(data_array[:,int((channel[num1]-1))],label='0'+str(num1+1)+' MA_PMT Channel: '+str(int(round(channel[num1]))))\n",
    "\n",
    "\n",
    "\n",
    "            leg = plt.legend(bbox_to_anchor=(0.730, 0.999), loc=\"best\", borderaxespad=0.,fontsize = 'x-large')\n",
    "            leg.set_title(\"Plot Warmer Pixels\", prop = {'size':'x-large'})\n",
    "            leg._legend_box.align = \"left\"\n",
    "\n",
    "            N=str(number_sources)\n",
    "            X= str(cont+1)\n",
    "            plt.title('0'+str(number_sources)+' Sources :'+' Analysis '+X+ ' FastICA Method '+method, fontsize = 20)\n",
    "            plt.text(150, 1360, r'Ordem Decrescente')\n",
    "\n",
    "            # hide tick and tick label of the big axes\n",
    "            plt.xlabel(\"Triggers\",fontsize=15)\n",
    "            plt.ylabel(\"ADC Counts\",fontsize=15)\n",
    "\n",
    "            plt.savefig(path+'/analysis_'+N+'_image_'+X+'.png', bbox_inches='tight')\n",
    "\n",
    "\n",
    "\n",
    "            plt.clf()\n",
    "           \n",
    "            #Plot Sum Pixels\n",
    "            plt.figure(figsize=(15,10))\n",
    "            plt.plot(data_array[:,2],label='Single-Anode PMT' )\n",
    "\n",
    "            for num1 in range(N_highest_values):\n",
    "                if channel[num1]!=0:\n",
    "                    plt.plot(data_array[:,int((channel[num1]-1))],label='0'+str(num1+1)+' MA_PMT Channel: '+str(int(round(channel[num1]))))\n",
    "                    soma=np.sum([soma,data_array[:,int((channel[num1]-1))]], axis=0)\n",
    "            \n",
    "            plt.plot(soma,label=\"Sum Pixels\") \n",
    "\n",
    "            plt.title('0'+str(number_sources)+' Sources :'+' Sum Analysis '+X+ ' FastICA Method '+method , fontsize = 20)\n",
    "            leg = plt.legend(bbox_to_anchor=(0.730, 0.999), loc=\"best\", borderaxespad=0.,fontsize = 'x-large')\n",
    "            leg.set_title(\"Plot Warmer Pixels\", prop = {'size':'x-large'})\n",
    "            leg._legend_box.align = \"left\"\n",
    "\n",
    "            # hide tick and tick label of the big axes\n",
    "            plt.xlabel(\"Triggers\",fontsize=15)\n",
    "            plt.ylabel(\"ADC Counts\",fontsize=15)\n",
    "\n",
    "            plt.savefig(path+'/Sum_analysis_'+N+'_image_'+X+'.png', bbox_inches='tight')\n",
    "\n",
    "\n",
    "\n",
    "            plt.clf()\n",
    "            \n",
    "            #Todas as somas no mesmo grafico\n",
    "            plt.figure(figsize=(15,10))\n",
    "\n",
    "            plt.plot(data_array[:,2],label='Single-Anode PMT' )\n",
    "            plt.plot(soma,label=\"Sum Pixels\")  \n",
    "\n",
    "\n",
    "            total_sum=np.vstack([total_sum,soma])\n",
    "\n",
    "        for item in range(1,number_sources+1, 1):\n",
    "            plt.plot(total_sum[item])\n",
    "\n",
    "\n",
    "        # hide tick and tick label of the big axes\n",
    "        plt.xlabel(\"Triggers\",fontsize=15)\n",
    "        plt.ylabel(\"ADC Counts\",fontsize=15)\n",
    "\n",
    "\n",
    "        plt.savefig(path+'/All_Sum_analysis.png', bbox_inches='tight')\n",
    "        "
   ]
  },
  {
   "cell_type": "code",
   "execution_count": 34,
   "metadata": {
    "collapsed": true
   },
   "outputs": [],
   "source": [
    "#Method Serpentine"
   ]
  },
  {
   "cell_type": "code",
   "execution_count": 37,
   "metadata": {
    "scrolled": true
   },
   "outputs": [
    {
     "name": "stderr",
     "output_type": "stream",
     "text": [
      "/home/Creison/miniconda2/lib/python2.7/site-packages/matplotlib/pyplot.py:537: RuntimeWarning: More than 20 figures have been opened. Figures created through the pyplot interface (`matplotlib.pyplot.figure`) are retained until explicitly closed and may consume too much memory. (To control this warning, see the rcParam `figure.max_open_warning`).\n",
      "  max_open_warning, RuntimeWarning)\n"
     ]
    }
   ],
   "source": [
    "analysis_image('Serpentine',sources03)"
   ]
  },
  {
   "cell_type": "code",
   "execution_count": 38,
   "metadata": {
    "collapsed": true
   },
   "outputs": [],
   "source": [
    "analysis_image('Serpentine',sources04)\n",
    "plt.close('all')"
   ]
  },
  {
   "cell_type": "code",
   "execution_count": 39,
   "metadata": {
    "collapsed": true
   },
   "outputs": [],
   "source": [
    "analysis_image('Serpentine',sources05)\n",
    "plt.close('all')"
   ]
  },
  {
   "cell_type": "code",
   "execution_count": 40,
   "metadata": {
    "collapsed": true
   },
   "outputs": [],
   "source": [
    "analysis_image('Serpentine',sources06)\n",
    "plt.close('all')"
   ]
  },
  {
   "cell_type": "code",
   "execution_count": 41,
   "metadata": {
    "collapsed": true
   },
   "outputs": [],
   "source": [
    "analysis_image('Serpentine',sources07)"
   ]
  },
  {
   "cell_type": "code",
   "execution_count": 42,
   "metadata": {
    "collapsed": true
   },
   "outputs": [],
   "source": [
    "analysis_image('Serpentine',sources08)"
   ]
  },
  {
   "cell_type": "code",
   "execution_count": 43,
   "metadata": {
    "collapsed": true
   },
   "outputs": [],
   "source": [
    "analysis_image('Serpentine',sources09)"
   ]
  },
  {
   "cell_type": "code",
   "execution_count": 44,
   "metadata": {
    "collapsed": true
   },
   "outputs": [],
   "source": [
    "analysis_image('Serpentine',sources48)"
   ]
  },
  {
   "cell_type": "code",
   "execution_count": 45,
   "metadata": {
    "collapsed": true
   },
   "outputs": [],
   "source": [
    "analysis_image('Serpentine',sources64)"
   ]
  },
  {
   "cell_type": "code",
   "execution_count": null,
   "metadata": {
    "collapsed": true
   },
   "outputs": [],
   "source": []
  }
 ],
 "metadata": {
  "kernelspec": {
   "display_name": "Python 2",
   "language": "python",
   "name": "python2"
  },
  "language_info": {
   "codemirror_mode": {
    "name": "ipython",
    "version": 2
   },
   "file_extension": ".py",
   "mimetype": "text/x-python",
   "name": "python",
   "nbconvert_exporter": "python",
   "pygments_lexer": "ipython2",
   "version": "2.7.15"
  }
 },
 "nbformat": 4,
 "nbformat_minor": 2
}
