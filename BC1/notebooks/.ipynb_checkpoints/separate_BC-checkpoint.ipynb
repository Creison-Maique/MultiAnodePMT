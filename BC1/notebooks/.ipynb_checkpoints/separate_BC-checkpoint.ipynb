{
 "cells": [
  {
   "cell_type": "code",
   "execution_count": 54,
   "metadata": {},
   "outputs": [],
   "source": [
    "import numpy as np\n",
    "import matplotlib.pyplot as plt \n",
    "import matplotlib.ticker as ticker\n",
    "import heapq\n",
    "import os\n",
    "from decimal import Decimal\n",
    "np.set_printoptions(threshold=np.nan) \n",
    "home_path = os.getcwd().replace('BC1/notebooks','')\n",
    "import cPickle as pickle\n",
    "import pandas as pd\n",
    "from scipy.signal import find_peaks\n",
    "import json\n",
    "\n",
    "import copy"
   ]
  },
  {
   "cell_type": "code",
   "execution_count": 2,
   "metadata": {},
   "outputs": [],
   "source": [
    "with open(\"separate_BC.json\", \"r\") as read_file:\n",
    "    json_file = json.load(read_file)"
   ]
  },
  {
   "cell_type": "code",
   "execution_count": 3,
   "metadata": {},
   "outputs": [],
   "source": [
    "run_number = json_file[\"run_number_use\"]\n",
    "single_anode_channel = int(json_file[\"single_anode_channel\"])\n",
    "number_tubes_json = len(json_file[\"tubes\"])\n",
    "direction_json = json_file[\"direction\"]\n",
    "input_name_json = json_file[\"file_name\"]"
   ]
  },
  {
   "cell_type": "code",
   "execution_count": 4,
   "metadata": {},
   "outputs": [],
   "source": [
    "def find_tubes(signal, percentage, number_tubes):\n",
    "    \"\"\"\n",
    "    Function to find the first and last indexes of each\n",
    "    tube inside the cell. In other words, this function\n",
    "    get the signal when the cesium capsule is inside\n",
    "    the cell.\n",
    "    Parameters:\n",
    "    ----------\n",
    "    signal : array\n",
    "        Array with signal profile from Cesium Scan.\n",
    "    percentage : float\n",
    "        Constant number of the percentage to cut the\n",
    "        ADC Counts axis of the signal, in order to\n",
    "        find the tubes in the cell.\n",
    "    number_tubes : int\n",
    "        Expected number of tubes inside the cell.\n",
    "    Returns:\n",
    "    -------\n",
    "    indexes : list\n",
    "        List with tuples containing the first and\n",
    "        last indexes of each tube found.\n",
    "    \"\"\"\n",
    "    # get peak indexes\n",
    "    height = np.max(signal) * percentage\n",
    "    peak_idx, _ = find_peaks(signal, height=height)\n",
    "\n",
    "    # distance between peaks\n",
    "    peak_dist = np.diff(peak_idx)\n",
    "\n",
    "    # positional argument\n",
    "    pos = np.array([i+1 for i, dist in enumerate(peak_dist) if dist >= 100])\n",
    "    pos = np.insert(pos, 0, 0)\n",
    "    pos = np.insert(pos, len(pos), len(peak_dist)+1)\n",
    "\n",
    "    # loop througout all the tubes\n",
    "    indexes = []\n",
    "    for tube in range(number_tubes):\n",
    "        # get the peaks indexes for each tube\n",
    "        peaks_per_tube = peak_idx[pos[tube]:pos[tube+1]]\n",
    "\n",
    "        # get mean distance between peaks/periods\n",
    "        mean_period = np.mean(np.diff(peaks_per_tube))\n",
    "\n",
    "        # get first and last indexes of this tube\n",
    "        first = int(peaks_per_tube[0] - (6*mean_period))\n",
    "        last = int(peaks_per_tube[-1] + (6*mean_period))\n",
    "        indexes.append((first, last))\n",
    "\n",
    "    return indexes\n"
   ]
  },
  {
   "cell_type": "code",
   "execution_count": 5,
   "metadata": {},
   "outputs": [],
   "source": [
    "#opening the file\n",
    "dictionary_path = home_path+'processed_data/Dados BC1/'\n",
    "file = open(dictionary_path+'BC1.CS'+run_number+'F.LBA66.FOCON.pkl','rb')\n",
    "cesium_scan = pickle.load(file)\n",
    "\n",
    "single_data = cesium_scan['data'][:, single_anode_channel]\n",
    "\n",
    "#Path to the channel reading mapping file\n",
    "map_path = home_path+'processed_data/Dados BC1/mapping.txt'"
   ]
  },
  {
   "cell_type": "code",
   "execution_count": 6,
   "metadata": {},
   "outputs": [],
   "source": [
    "# Find the tubes inside the cell using the\n",
    "# peaks information of the single anode PMT\n",
    "tubes_idx = find_tubes(single_data,percentage=0.6,number_tubes=number_tubes_json)"
   ]
  },
  {
   "cell_type": "code",
   "execution_count": 7,
   "metadata": {},
   "outputs": [],
   "source": [
    "#Phill's function(No change)\n",
    "def create_tensor(data, map_file):\n",
    "    \"\"\"\n",
    "    Create tensor from signal profile of the MA-PMT.\n",
    "    In other words, stack snapshots of the MA-PMT image\n",
    "    for each time interval.\n",
    "    Parameters:\n",
    "    ----------\n",
    "    data : 2D array\n",
    "        rows - samples/measurements\n",
    "        columns - channels/features\n",
    "    map_file : str\n",
    "        Complete path of the mapping file.\n",
    "    Returns:\n",
    "    -------\n",
    "    data_tensor : 3D array\n",
    "        Tensorial format of the data.\n",
    "    \"\"\"\n",
    "    n_samples = data.shape[0]\n",
    "    data_tensor = np.zeros([8, 8, n_samples])\n",
    "\n",
    "    # get mapping for image pixels\n",
    "    pixel_map = np.loadtxt(map_file)\n",
    "\n",
    "    # nested loop for the grid of pixels\n",
    "    for i in range(8):\n",
    "        for j in range(8):\n",
    "            if pixel_map[i, j] == 0:\n",
    "                data_tensor[i, j, :] = 1e-8\n",
    "            else:\n",
    "                channel = int(pixel_map[i, j]-1)\n",
    "                data_tensor[i, j, :] = data[:, channel]\n",
    "\n",
    "    return data_tensor\n"
   ]
  },
  {
   "cell_type": "code",
   "execution_count": 8,
   "metadata": {},
   "outputs": [],
   "source": [
    "#Phill's function(No change)\n",
    "def check_scan_direction(file_name, verbose=True):\n",
    "    \"\"\"\n",
    "    Function to check if the cesium scan was made Forward or Backward\n",
    "    and if the cell is on the positive (A) or negative (C) side of\n",
    "    the pseudo-rapidity.\n",
    "    This is done by splitting the string, containing the name of the\n",
    "    ROOT data, and retrieving information by the scan coded on the\n",
    "    file name.\n",
    "    Parameters:\n",
    "    ----------\n",
    "    file_name : string\n",
    "        Name of the cesium scan ROOT file. Encoded as:\n",
    "            - A1.CS99999F.LBA66\n",
    "    verbose : boolean (optional)\n",
    "        Verbose variable to print information in the screen.\n",
    "        - default - True\n",
    "    Returns:\n",
    "    -------\n",
    "    scan_info : dict\n",
    "        Dictionary with useful informations about the cesium scan.\n",
    "    \"\"\"\n",
    "    # split the file name and extract informations\n",
    "    split = file_name.split('.')\n",
    "    cell = split[0]\n",
    "    run_number = split[1][2:7]\n",
    "    direction = split[1][-1]\n",
    "    barrel = split[2][:2]\n",
    "    module = split[2][3:]\n",
    "    side = split[2][2]\n",
    "    connector = split[3]\n",
    "\n",
    "    # print information\n",
    "    if verbose:\n",
    "        print('\\n>> Data Characteristics <<')\n",
    "        print('  - Run: %s' % run_number)\n",
    "        print('  - Cell: %s' % cell)\n",
    "        print('  - Connector: %s' % connector)\n",
    "        print('  - Barrel: %s' % barrel)\n",
    "        print('  - Module: %s' % module)\n",
    "        print('  - Side: %s' % side)\n",
    "        print('  - Scan direction: %s' % direction)\n",
    "\n",
    "    # dictionary holding the direction constants\n",
    "    direction_const = {'F': 1, 'B': -1}\n",
    "\n",
    "    # auxiliary constants for each tube\n",
    "    if barrel == 'LB':\n",
    "        tubes_const = np.asarray([-1, 1, -1, 1, -1, 1, -1, 1, -1, 1, -1])\n",
    "        # the indexes are in the physical scale\n",
    "        tubes_idx = {'A': np.asarray([0, 1, 2]),\n",
    "                     'BC': np.asarray([3, 4, 5, 6, 7, 8]),\n",
    "                     'D': np.asarray([9, 10])}\n",
    "    elif barrel == 'EB':\n",
    "        print('Direction of Extended Barrel (EB) not implemented yet!')\n",
    "        sys.exit()\n",
    "    else:\n",
    "        print('Not a valid name for TileCal barrel.')\n",
    "        print('Possible names are: LB and EB')\n",
    "        sys.exit()\n",
    "\n",
    "    # check cells and barrels\n",
    "    cell_digit = filter(lambda x: x.isalpha(), cell)\n",
    "    tube_direction = tubes_const[tubes_idx[cell_digit]] \\\n",
    "    * direction_const[direction]\n",
    "\n",
    "    if direction == 'F':\n",
    "        tube_order = np.flip(tubes_idx[cell_digit], 0) + 1\n",
    "    elif direction == 'B':\n",
    "        tube_order = tubes_idx[cell_digit] + 1\n",
    "    else:\n",
    "        print('Not a valid scan direction.')\n",
    "        print('Possible values are: F and B')\n",
    "        sys.exit()\n",
    "\n",
    "    # add to results\n",
    "    scan_info = {'tube_order': tube_order,\n",
    "                 'tube_direction': tube_direction,\n",
    "                 'n_tubes': len(tubes_idx[cell_digit])}\n",
    "\n",
    "    return scan_info"
   ]
  },
  {
   "cell_type": "code",
   "execution_count": 9,
   "metadata": {},
   "outputs": [
    {
     "name": "stdout",
     "output_type": "stream",
     "text": [
      "\n",
      ">> Data Characteristics <<\n",
      "  - Run: 10706\n",
      "  - Cell: BC1\n",
      "  - Connector: FOCON\n",
      "  - Barrel: LB\n",
      "  - Module: 66\n",
      "  - Side: A\n",
      "  - Scan direction: F\n"
     ]
    }
   ],
   "source": [
    "# check scan direction and cell side\n",
    "scan_info = check_scan_direction(input_name_json)"
   ]
  },
  {
   "cell_type": "code",
   "execution_count": 115,
   "metadata": {},
   "outputs": [],
   "source": [
    "# getting the data from each tube\n",
    "# and putting in a dict of dicts\n",
    "separated_cell={}\n",
    "results = {}\n",
    "results['single_anode'] = single_anode_channel \n",
    "check = [0,0,0,3,3,3]\n",
    "for tube, idx in enumerate(tubes_idx):\n",
    "    \n",
    "    results.setdefault('data',[]).append(cesium_scan['data'][idx[0]:idx[1], :])\n",
    "    results.setdefault('trigger',[]).append(cesium_scan['trigger'][idx[0]:idx[1]])\n",
    "    results.setdefault('timesec',[]).append(cesium_scan['timesec'][idx[0]:idx[1]])\n",
    "    results.setdefault('timemksec',[]).append(cesium_scan['timemksec'][idx[0]:idx[1]])\n",
    "    \n",
    "     # check if is needed to inverse the data\n",
    "    if scan_info['tube_direction'][tube] == -1:\n",
    "        #count up to 2 twice(tube - check[tube])\n",
    "        results['data'][tube - check[tube]] = np.flip(results['data'][tube - check[tube]], axis=0)\n",
    "        \n",
    "     # create tensor images       \n",
    "    results.setdefault('tensor',[]).append(create_tensor(results['data'][tube - check[tube]], map_path))\n",
    "    \n",
    "    if (tube == 2):\n",
    "        #deep copy will copy all contents by value.\n",
    "        separated_cell[\"DataB\"] = copy.deepcopy(results)\n",
    "        #clean dictionary\n",
    "        results = {}\n",
    "    if (tube == 5):\n",
    "        separated_cell[\"DataC\"] = copy.deepcopy(results)\n",
    "       \n",
    "\n",
    "            "
   ]
  },
  {
   "cell_type": "code",
   "execution_count": 125,
   "metadata": {
    "scrolled": false
   },
   "outputs": [],
   "source": [
    "teste=np.concatenate([cesium_scan[\"timemksec\"]])"
   ]
  },
  {
   "cell_type": "code",
   "execution_count": 126,
   "metadata": {},
   "outputs": [
    {
     "data": {
      "text/plain": [
       "(25719,)"
      ]
     },
     "execution_count": 126,
     "metadata": {},
     "output_type": "execute_result"
    }
   ],
   "source": [
    "teste.shape"
   ]
  },
  {
   "cell_type": "code",
   "execution_count": 14,
   "metadata": {
    "scrolled": true
   },
   "outputs": [
    {
     "data": {
      "image/png": "[encoded data removed]",
      "text/plain": [
       "<Figure size 432x288 with 1 Axes>"
      ]
     },
     "metadata": {},
     "output_type": "display_data"
    }
   ],
   "source": [
    "plt.plot(results[\"data\"][1])\n",
    "plt.show()"
   ]
  },
  {
   "cell_type": "code",
   "execution_count": null,
   "metadata": {},
   "outputs": [],
   "source": []
  },
  {
   "cell_type": "code",
   "execution_count": null,
   "metadata": {},
   "outputs": [],
   "source": []
  }
 ],
 "metadata": {
  "kernelspec": {
   "display_name": "Python 2",
   "language": "python",
   "name": "python2"
  },
  "language_info": {
   "codemirror_mode": {
    "name": "ipython",
    "version": 2
   },
   "file_extension": ".py",
   "mimetype": "text/x-python",
   "name": "python",
   "nbconvert_exporter": "python",
   "pygments_lexer": "ipython2",
   "version": "2.7.14"
  }
 },
 "nbformat": 4,
 "nbformat_minor": 2
}
