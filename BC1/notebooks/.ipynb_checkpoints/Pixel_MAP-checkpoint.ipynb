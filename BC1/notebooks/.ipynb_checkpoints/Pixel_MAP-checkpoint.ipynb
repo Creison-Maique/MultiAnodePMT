{
 "cells": [
  {
   "cell_type": "code",
   "execution_count": 1,
   "metadata": {},
   "outputs": [],
   "source": [
    "import pandas as pd\n",
    "import numpy as np\n",
    "file_map ='cable_mapping_07.06.2018.xlsx'\n",
    "\n",
    "import os\n",
    "home_path = os.getcwd().replace('/BC1/notebooks','')"
   ]
  },
  {
   "cell_type": "code",
   "execution_count": 2,
   "metadata": {},
   "outputs": [],
   "source": [
    "# Load spreadsheet\n",
    "file_xlsx= pd.read_excel(home_path+'/processed_data/Dados BC1/'+file_map)"
   ]
  },
  {
   "cell_type": "code",
   "execution_count": 6,
   "metadata": {
    "collapsed": true
   },
   "outputs": [
    {
     "data": {
      "text/html": [
       "<div>\n",
       "<style scoped>\n",
       "    .dataframe tbody tr th:only-of-type {\n",
       "        vertical-align: middle;\n",
       "    }\n",
       "\n",
       "    .dataframe tbody tr th {\n",
       "        vertical-align: top;\n",
       "    }\n",
       "\n",
       "    .dataframe thead th {\n",
       "        text-align: right;\n",
       "    }\n",
       "</style>\n",
       "<table border=\"1\" class=\"dataframe\">\n",
       "  <thead>\n",
       "    <tr style=\"text-align: right;\">\n",
       "      <th></th>\n",
       "      <th>MaPMT channel</th>\n",
       "      <th>Connector pin</th>\n",
       "      <th>PMT block slot</th>\n",
       "      <th>Unnamed: 3</th>\n",
       "      <th>MaPMT channel.1</th>\n",
       "      <th>Connector pin pair</th>\n",
       "      <th>PMT block slot.1</th>\n",
       "      <th>Unnamed: 7</th>\n",
       "      <th>Control PMT block slot</th>\n",
       "      <th>3</th>\n",
       "    </tr>\n",
       "  </thead>\n",
       "  <tbody>\n",
       "    <tr>\n",
       "      <th>0</th>\n",
       "      <td>4.0</td>\n",
       "      <td>1</td>\n",
       "      <td>48.0</td>\n",
       "      <td>NaN</td>\n",
       "      <td>36.0</td>\n",
       "      <td>1</td>\n",
       "      <td>24</td>\n",
       "      <td>NaN</td>\n",
       "      <td>MaPMT slot</td>\n",
       "      <td>4.0</td>\n",
       "    </tr>\n",
       "    <tr>\n",
       "      <th>1</th>\n",
       "      <td>5.0</td>\n",
       "      <td>2</td>\n",
       "      <td>46.0</td>\n",
       "      <td>NaN</td>\n",
       "      <td>37.0</td>\n",
       "      <td>2</td>\n",
       "      <td>22</td>\n",
       "      <td>NaN</td>\n",
       "      <td>NaN</td>\n",
       "      <td>NaN</td>\n",
       "    </tr>\n",
       "    <tr>\n",
       "      <th>2</th>\n",
       "      <td>10.0</td>\n",
       "      <td>3</td>\n",
       "      <td>44.0</td>\n",
       "      <td>NaN</td>\n",
       "      <td>38.0</td>\n",
       "      <td>3</td>\n",
       "      <td>20</td>\n",
       "      <td>NaN</td>\n",
       "      <td>NaN</td>\n",
       "      <td>NaN</td>\n",
       "    </tr>\n",
       "    <tr>\n",
       "      <th>3</th>\n",
       "      <td>11.0</td>\n",
       "      <td>4</td>\n",
       "      <td>42.0</td>\n",
       "      <td>NaN</td>\n",
       "      <td>39.0</td>\n",
       "      <td>4</td>\n",
       "      <td>18</td>\n",
       "      <td>NaN</td>\n",
       "      <td>NaN</td>\n",
       "      <td>NaN</td>\n",
       "    </tr>\n",
       "    <tr>\n",
       "      <th>4</th>\n",
       "      <td>12.0</td>\n",
       "      <td>5</td>\n",
       "      <td>40.0</td>\n",
       "      <td>NaN</td>\n",
       "      <td>40.0</td>\n",
       "      <td>5</td>\n",
       "      <td>16</td>\n",
       "      <td>NaN</td>\n",
       "      <td>NaN</td>\n",
       "      <td>NaN</td>\n",
       "    </tr>\n",
       "  </tbody>\n",
       "</table>\n",
       "</div>"
      ],
      "text/plain": [
       "   MaPMT channel Connector pin  PMT block slot  Unnamed: 3  MaPMT channel.1  \\\n",
       "0            4.0             1            48.0         NaN             36.0   \n",
       "1            5.0             2            46.0         NaN             37.0   \n",
       "2           10.0             3            44.0         NaN             38.0   \n",
       "3           11.0             4            42.0         NaN             39.0   \n",
       "4           12.0             5            40.0         NaN             40.0   \n",
       "\n",
       "  Connector pin pair PMT block slot.1  Unnamed: 7 Control PMT block slot    3  \n",
       "0                  1               24         NaN             MaPMT slot  4.0  \n",
       "1                  2               22         NaN                    NaN  NaN  \n",
       "2                  3               20         NaN                    NaN  NaN  \n",
       "3                  4               18         NaN                    NaN  NaN  \n",
       "4                  5               16         NaN                    NaN  NaN  "
      ]
     },
     "execution_count": 6,
     "metadata": {},
     "output_type": "execute_result"
    }
   ],
   "source": [
    "file_xlsx.head()"
   ]
  },
  {
   "cell_type": "code",
   "execution_count": 3,
   "metadata": {},
   "outputs": [],
   "source": [
    "def create_pixel_map(excel_file):\n",
    "\n",
    "    MaPMT_Channel = excel_file['MaPMT channel']\n",
    "    MaPMT_Channel = MaPMT_Channel.append(excel_file['MaPMT channel.1'], ignore_index=True)\n",
    "    PMT_block_slot = excel_file['PMT block slot']\n",
    "    PMT_block_slot = PMT_block_slot.append(excel_file['PMT block slot.1'], ignore_index=True)\n",
    "    pixel_map = np.zeros(64)\n",
    "    for i in MaPMT_Channel.index.values:\n",
    "        # if different from NAN\n",
    "        if (True != np.isnan(MaPMT_Channel[i])):\n",
    "            pixel_map[int(PMT_block_slot[i])-1] = MaPMT_Channel[i]\n",
    "\n",
    "    #Gives a new shape to an array without changing its data.\n",
    "    pixel_map = pixel_map.reshape((8, 8))\n",
    "    \n",
    "    return pixel_map"
   ]
  },
  {
   "cell_type": "code",
   "execution_count": 4,
   "metadata": {},
   "outputs": [
    {
     "name": "stdout",
     "output_type": "stream",
     "text": [
      "[[50. 51.  0.  0. 46. 45. 54. 44.]\n",
      " [52. 47. 55. 43. 60. 42. 61. 40.]\n",
      " [53. 39. 17. 38. 48. 37. 22. 36.]\n",
      " [23. 21. 25. 20. 26. 19. 27. 18.]\n",
      " [28. 15. 29. 14. 30. 13. 31. 12.]\n",
      " [32. 11. 33. 10. 34.  5. 35.  4.]\n",
      " [ 0.  0.  0.  0.  0.  0.  0.  0.]\n",
      " [ 0.  0.  0.  0.  0.  0.  0.  0.]]\n"
     ]
    }
   ],
   "source": [
    "print create_pixel_map(file_xlsx)"
   ]
  },
  {
   "cell_type": "code",
   "execution_count": 5,
   "metadata": {},
   "outputs": [],
   "source": [
    "np.savetxt(home_path+'/processed_data/Dados BC1/pixel_map',create_pixel_map(file_xlsx),fmt='%i', delimiter=' ')"
   ]
  },
  {
   "cell_type": "code",
   "execution_count": null,
   "metadata": {},
   "outputs": [],
   "source": []
  }
 ],
 "metadata": {
  "kernelspec": {
   "display_name": "Python 2",
   "language": "python",
   "name": "python2"
  },
  "language_info": {
   "codemirror_mode": {
    "name": "ipython",
    "version": 2
   },
   "file_extension": ".py",
   "mimetype": "text/x-python",
   "name": "python",
   "nbconvert_exporter": "python",
   "pygments_lexer": "ipython2",
   "version": "2.7.14"
  }
 },
 "nbformat": 4,
 "nbformat_minor": 2
}
