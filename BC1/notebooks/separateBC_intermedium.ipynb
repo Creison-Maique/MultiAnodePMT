{
 "cells": [
  {
   "cell_type": "code",
   "execution_count": null,
   "metadata": {
    "collapsed": true
   },
   "outputs": [],
   "source": [
    "import copy\n",
    "separate_peaks_copy = copy.copy(separate_peaks)"
   ]
  },
  {
   "cell_type": "code",
   "execution_count": null,
   "metadata": {
    "collapsed": true
   },
   "outputs": [],
   "source": [
    "separate_peaks = []\n",
    "for k in range(len(tubes_idx)):\n",
    "    separate_peaks.append(multi_data[tubes_idx[k][0]:tubes_idx[k][1]])"
   ]
  },
  {
   "cell_type": "code",
   "execution_count": null,
   "metadata": {
    "collapsed": true
   },
   "outputs": [],
   "source": [
    "for i in range(number_tubes_json):\n",
    "    #Reverse the order of elements in an array along the given axis.\n",
    "    if (direction_json==\"backward\" and i % 2 == 0 ):\n",
    "        separate_peaks[i] = np.flip(separate_peaks[i].copy(),0)\n",
    "        \n",
    "    if (direction_json==\"forward\" and i % 2 != 0):\n",
    "        separate_peaks[i] = np.flip(separate_peaks[i].copy(),0)      \n",
    "           "
   ]
  },
  {
   "cell_type": "code",
   "execution_count": null,
   "metadata": {
    "collapsed": true
   },
   "outputs": [],
   "source": [
    "dataB = separate_peaks[0:3]\n",
    "dataC = separate_peaks[3:]"
   ]
  },
  {
   "cell_type": "code",
   "execution_count": null,
   "metadata": {
    "collapsed": true
   },
   "outputs": [],
   "source": [
    "ordena=['single_anode_channel', 'trigger', 'timesec', 'dataB','dataC','timemksec']\n",
    "#zip This function returns a list of tuples\n",
    "dados=[single_anode_channel,trigger,timesec,dataB,dataC,timemksec]\n",
    "dictionary = dict(zip(ordena,dados))"
   ]
  },
  {
   "cell_type": "code",
   "execution_count": null,
   "metadata": {
    "collapsed": true
   },
   "outputs": [],
   "source": [
    "pickle.dump(dictionary,open(dictionary_path+\"BC1.CS\"+run_number+\"F.LBA66.FOCON_separate.pkl\", \"wb\" ))"
   ]
  },
  {
   "cell_type": "code",
   "execution_count": null,
   "metadata": {
    "collapsed": true
   },
   "outputs": [],
   "source": [
    "plt.figure(figsize=(15,15))\n",
    "\n",
    "plt.subplot(331)\n",
    "plt.plot(separate_peaks[0])\n",
    "\n",
    "plt.subplot(332)\n",
    "plt.plot(separate_peaks[1])\n",
    "\n",
    "plt.subplot(333)\n",
    "plt.plot(separate_peaks[2])\n",
    "\n",
    "\n",
    "plt.subplot(334)\n",
    "plt.plot(separate_peaks[3])\n",
    "\n",
    "plt.subplot(335)\n",
    "plt.plot(separate_peaks[4])\n",
    "\n",
    "plt.subplot(336)\n",
    "plt.plot(separate_peaks[5])\n",
    "plt.show()"
   ]
  },
  {
   "cell_type": "code",
   "execution_count": null,
   "metadata": {
    "collapsed": true
   },
   "outputs": [],
   "source": [
    "plt.figure(figsize=(15,15))\n",
    "\n",
    "plt.subplot(331)\n",
    "plt.plot(separate_peaks_copy[0])\n",
    "\n",
    "plt.subplot(332)\n",
    "plt.plot(separate_peaks_copy[1])\n",
    "\n",
    "\n",
    "plt.subplot(333)\n",
    "plt.plot(separate_peaks_copy[2])\n",
    "\n",
    "\n",
    "plt.subplot(334)\n",
    "plt.plot(separate_peaks_copy[3])\n",
    "\n",
    "plt.subplot(335)\n",
    "plt.plot(separate_peaks_copy[4])\n",
    "\n",
    "plt.subplot(336)\n",
    "plt.plot(separate_peaks_copy[5])\n",
    "plt.show()"
   ]
  },
  {
   "cell_type": "code",
   "execution_count": null,
   "metadata": {
    "collapsed": true
   },
   "outputs": [],
   "source": []
  }
 ],
 "metadata": {
  "kernelspec": {
   "display_name": "Python 2",
   "language": "python",
   "name": "python2"
  },
  "language_info": {
   "codemirror_mode": {
    "name": "ipython",
    "version": 2
   },
   "file_extension": ".py",
   "mimetype": "text/x-python",
   "name": "python",
   "nbconvert_exporter": "python",
   "pygments_lexer": "ipython2",
   "version": "2.7.14"
  }
 },
 "nbformat": 4,
 "nbformat_minor": 2
}
