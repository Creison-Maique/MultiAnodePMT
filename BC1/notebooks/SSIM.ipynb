{
 "cells": [
  {
   "cell_type": "code",
   "execution_count": 10,
   "metadata": {
    "collapsed": true
   },
   "outputs": [],
   "source": [
    "# import the necessary packages\n",
    "from skimage.measure import compare_ssim as ssim\n",
    "import matplotlib.pyplot as plt\n",
    "import numpy as np\n",
    "import cv2\n",
    "import os\n",
    "import json\n",
    "home_path = os.getcwd().replace('BC1/notebooks','')"
   ]
  },
  {
   "cell_type": "code",
   "execution_count": 11,
   "metadata": {
    "collapsed": true
   },
   "outputs": [],
   "source": [
    "with open(\"separate_BC.json\", \"r\") as read_file:\n",
    "    json_file = json.load(read_file)"
   ]
  },
  {
   "cell_type": "code",
   "execution_count": 12,
   "metadata": {
    "collapsed": true
   },
   "outputs": [],
   "source": [
    "name_json = json_file[\"file_name\"]\n",
    "split = name_json.split('.')\n",
    "run_number = split[1][2:7]"
   ]
  },
  {
   "cell_type": "code",
   "execution_count": 13,
   "metadata": {
    "collapsed": true
   },
   "outputs": [],
   "source": [
    "path= home_path+'BC1/analysis/CS'+run_number+'F/separate_cells_BC/'"
   ]
  },
  {
   "cell_type": "code",
   "execution_count": 14,
   "metadata": {
    "collapsed": true
   },
   "outputs": [],
   "source": []
  },
  {
   "cell_type": "code",
   "execution_count": 15,
   "metadata": {
    "collapsed": true
   },
   "outputs": [],
   "source": [
    "def compare_images(imageA, imageB , path = path):\n",
    "    # compute the mean squared error and structural similarity\n",
    "    # index for the images\n",
    "    #m = mse(imageA, imageB)\n",
    "    s = ssim(imageA, imageB)\n",
    "\n",
    "    # setup the figure\n",
    "    fig = plt.figure(figsize=(15, 8))\n",
    "    plt.title(\"# DataB vs. DataC \", fontsize = 25)\n",
    "    plt.axis(\"off\")\n",
    "    #plt.suptitle(\"MSE: %.2f, SSIM: %.2f\" % (m, s), fontsize = 15)\n",
    "    plt.suptitle(\"SSIM: %.2f\" % (s), fontsize = 15)\n",
    "    \n",
    "    # show first image\n",
    "    ax = fig.add_subplot(1, 2, 1)\n",
    "    plt.imshow(imageA, cmap = plt.cm.gray)\n",
    "    plt.axis(\"off\")\n",
    "\n",
    "    # show the second image\n",
    "    ax = fig.add_subplot(1, 2, 2)\n",
    "    plt.imshow(imageB, cmap = plt.cm.gray)\n",
    "    plt.axis(\"off\")\n",
    "\n",
    "    plt.savefig(path+'compare_images_ssim.png', bbox_inches='tight')\n",
    "    # show the images"
   ]
  },
  {
   "cell_type": "code",
   "execution_count": 16,
   "metadata": {
    "collapsed": true
   },
   "outputs": [],
   "source": [
    "# load the images -- the original, the original + contrast,\n",
    "\n",
    "dataB = cv2.imread(path+\"DataB/Image_Global_Mean_CellB.png\")\n",
    "dataC = cv2.imread(path+\"DataC/Image_Global_Mean_CellC.png\")\n",
    "\n",
    "\n",
    "# convert the images to grayscale\n",
    "dataB = cv2.cvtColor(dataB, cv2.COLOR_BGR2GRAY)\n",
    "dataC = cv2.cvtColor(dataC, cv2.COLOR_BGR2GRAY)\n",
    "\n",
    "\n",
    "# initialize the figure\n",
    "fig = plt.figure(\"Images\")\n",
    "images = (\"DataB\", dataB), (\"DataC\",dataC)\n",
    "\n",
    "\n",
    "# compare the images\n",
    "\n",
    "compare_images(dataB, dataC)\n"
   ]
  },
  {
   "cell_type": "code",
   "execution_count": 17,
   "metadata": {},
   "outputs": [
    {
     "data": {
      "text/plain": [
       "{u'cell': u'BC1',\n",
       " u'connector': u'FOCON',\n",
       " u'file_name': u'BC1.CS10706F.LBA66.FOCON',\n",
       " u'model_version': u'BC_cells',\n",
       " u'module': u'LBA66',\n",
       " u'run_numbers': [10706,\n",
       "  10708,\n",
       "  10710,\n",
       "  10712,\n",
       "  10714,\n",
       "  10716,\n",
       "  10718,\n",
       "  10720,\n",
       "  10722,\n",
       "  10724],\n",
       " u'single_anode_channel': u'2',\n",
       " u'tubes': [9, 8, 7, 6, 5, 4]}"
      ]
     },
     "execution_count": 17,
     "metadata": {},
     "output_type": "execute_result"
    }
   ],
   "source": [
    "json_file"
   ]
  },
  {
   "cell_type": "code",
   "execution_count": null,
   "metadata": {
    "collapsed": true
   },
   "outputs": [],
   "source": []
  }
 ],
 "metadata": {
  "kernelspec": {
   "display_name": "Python 2",
   "language": "python",
   "name": "python2"
  },
  "language_info": {
   "codemirror_mode": {
    "name": "ipython",
    "version": 2
   },
   "file_extension": ".py",
   "mimetype": "text/x-python",
   "name": "python",
   "nbconvert_exporter": "python",
   "pygments_lexer": "ipython2",
   "version": "2.7.15"
  }
 },
 "nbformat": 4,
 "nbformat_minor": 2
}
