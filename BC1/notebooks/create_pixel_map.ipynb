{
 "cells": [
  {
   "cell_type": "code",
   "execution_count": 1,
   "metadata": {
    "collapsed": true
   },
   "outputs": [],
   "source": [
    "import pandas as pd\n",
    "import numpy as np\n",
    "file_map ='cable_mapping_07.06.2018.xlsx'\n",
    "\n",
    "import os\n",
    "home_path = os.getcwd().replace('/BC1/notebooks','')"
   ]
  },
  {
   "cell_type": "code",
   "execution_count": 2,
   "metadata": {
    "collapsed": true
   },
   "outputs": [],
   "source": [
    "# Load spreadsheet\n",
    "file_xlsx=home_path+'/processed_data/Dados BC1/'+file_map"
   ]
  },
  {
   "cell_type": "code",
   "execution_count": 3,
   "metadata": {
    "collapsed": true
   },
   "outputs": [],
   "source": [
    "def create_pixel_map(map_file):\n",
    "    \"\"\"\n",
    "    Create the array with the mapping for each\n",
    "    MA-PMT anode.\n",
    "    Arguments:\n",
    "    ---------\n",
    "    map_file : (str)\n",
    "        Complete path to the mapping file provided by\n",
    "        the Cs Group.\n",
    "    Returns:\n",
    "    -------\n",
    "    pixel_map : 2D array\n",
    "        Array with the 8x8 grid of pixels mapped to\n",
    "        channel numbers.\n",
    "    \"\"\"\n",
    "    # load spreadsheet as a pandas dataframe\n",
    "    df = pd.read_excel(map_file)\n",
    "    pmt_channel = df['MaPMT channel']\n",
    "    pmt_channel = pmt_channel.append(df['MaPMT channel.1'], ignore_index=True)\n",
    "    pmt_block = df['PMT block slot']\n",
    "    pmt_block = pmt_block.append(df['PMT block slot.1'], ignore_index=True)\n",
    "    # load and fill pixel map\n",
    "    pixel_map = np.zeros(64)\n",
    "    for i, pixel in enumerate(pmt_channel):\n",
    "        if np.isnan(pixel):\n",
    "            continue\n",
    "        else:\n",
    "            pixel_map[int(pixel) - 1] = pmt_block[i]\n",
    "    # reshape the array in the 8x8 grid\n",
    "    pixel_map = pixel_map.reshape((8, 8))\n",
    "    return pixel_map"
   ]
  },
  {
   "cell_type": "code",
   "execution_count": 4,
   "metadata": {},
   "outputs": [
    {
     "name": "stdout",
     "output_type": "stream",
     "text": [
      "[[ 0.  0.  0. 48. 46.  0.  0.  0.]\n",
      " [ 0. 44. 42. 40. 38. 36. 34.  0.]\n",
      " [19. 32. 30. 28. 26. 23. 25.  0.]\n",
      " [27. 29. 31. 33. 35. 37. 39. 41.]\n",
      " [43. 45. 47. 24. 22. 20. 18. 16.]\n",
      " [ 0. 14. 12.  8.  6.  5. 10. 21.]\n",
      " [ 0.  1.  2.  9. 17.  7. 11.  0.]\n",
      " [ 0.  0.  0. 13. 15.  0.  0.  0.]]\n"
     ]
    }
   ],
   "source": [
    "print create_pixel_map(file_xlsx)"
   ]
  },
  {
   "cell_type": "code",
   "execution_count": 5,
   "metadata": {
    "collapsed": true
   },
   "outputs": [],
   "source": [
    "np.savetxt(home_path+'/processed_data/Dados BC1/pixel_map',create_pixel_map(file_xlsx),fmt='%i', delimiter=' ')"
   ]
  },
  {
   "cell_type": "code",
   "execution_count": null,
   "metadata": {
    "collapsed": true
   },
   "outputs": [],
   "source": []
  }
 ],
 "metadata": {
  "kernelspec": {
   "display_name": "Python 2",
   "language": "python",
   "name": "python2"
  },
  "language_info": {
   "codemirror_mode": {
    "name": "ipython",
    "version": 2
   },
   "file_extension": ".py",
   "mimetype": "text/x-python",
   "name": "python",
   "nbconvert_exporter": "python",
   "pygments_lexer": "ipython2",
   "version": "2.7.15"
  }
 },
 "nbformat": 4,
 "nbformat_minor": 2
}
