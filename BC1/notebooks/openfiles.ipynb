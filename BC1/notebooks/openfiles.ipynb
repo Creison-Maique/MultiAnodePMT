{
 "cells": [
  {
   "cell_type": "code",
   "execution_count": 1,
   "metadata": {
    "collapsed": true
   },
   "outputs": [],
   "source": [
    "import numpy as np\n",
    "import matplotlib.pyplot as plt \n",
    "import matplotlib.ticker as ticker\n",
    "import heapq\n",
    "import os\n",
    "from decimal import Decimal\n",
    "np.set_printoptions(threshold=np.nan) \n",
    "home_path = os.getcwd().replace('BC1/notebooks','')\n",
    "import cPickle as pickle\n",
    "import pandas as pd\n",
    "from scipy.signal import find_peaks\n",
    "from sklearn.decomposition import FastICA\n",
    "from sklearn.decomposition import PCA\n",
    "from sklearn.cluster import KMeans\n",
    "\n",
    "from sklearn.cluster import SpectralClustering\n",
    "data_region = 'CS10706F'\n",
    "                                                                                                            "
   ]
  },
  {
   "cell_type": "code",
   "execution_count": 2,
   "metadata": {
    "collapsed": true
   },
   "outputs": [],
   "source": [
    "def find_tubes(signal, percentage, number_tubes):\n",
    "    \"\"\"\n",
    "    Function to find the first and last indexes of each\n",
    "    tube inside the cell. In other words, this function\n",
    "    get the signal when the cesium capsule is inside\n",
    "    the cell.\n",
    "    Parameters:\n",
    "    ----------\n",
    "    signal : array\n",
    "        Array with signal profile from Cesium Scan.\n",
    "    percentage : float\n",
    "        Constant number of the percentage to cut the\n",
    "        ADC Counts axis of the signal, in order to\n",
    "        find the tubes in the cell.\n",
    "    number_tubes : int\n",
    "        Expected number of tubes inside the cell.\n",
    "    Returns:\n",
    "    -------\n",
    "    indexes : list\n",
    "        List with tuples containing the first and\n",
    "        last indexes of each tube found.\n",
    "    \"\"\"\n",
    "    # get peak indexes\n",
    "    height = np.max(signal) * percentage\n",
    "    peak_idx, _ = find_peaks(signal, height=height)\n",
    "\n",
    "    # distance between peaks\n",
    "    peak_dist = np.diff(peak_idx)\n",
    "\n",
    "    # positional argument\n",
    "    pos = np.array([i+1 for i, dist in enumerate(peak_dist) if dist >= 100])\n",
    "    pos = np.insert(pos, 0, 0)\n",
    "    pos = np.insert(pos, len(pos), len(peak_dist)+1)\n",
    "\n",
    "    # loop througout all the tubes\n",
    "    indexes = []\n",
    "    for tube in range(number_tubes):\n",
    "        # get the peaks indexes for each tube\n",
    "        peaks_per_tube = peak_idx[pos[tube]:pos[tube+1]]\n",
    "\n",
    "        # get mean distance between peaks/periods\n",
    "        mean_period = np.mean(np.diff(peaks_per_tube))\n",
    "\n",
    "        # get first and last indexes of this tube\n",
    "        first = int(peaks_per_tube[0] - (6*mean_period))\n",
    "        last = int(peaks_per_tube[-1] + (6*mean_period))\n",
    "        indexes.append((first, last))\n",
    "\n",
    "    return indexes\n"
   ]
  },
  {
   "cell_type": "code",
   "execution_count": 3,
   "metadata": {
    "collapsed": true
   },
   "outputs": [],
   "source": [
    "    def create_image(data_per_idx,map_file):\n",
    "        \"\"\"\n",
    "        Private method that maps each channel into a pixel in the\n",
    "        MA-PMT grid and creates its image.\n",
    "\n",
    "        Args:\n",
    "        ----\n",
    "        data_per_idx (array): one realization (trigger/time unit) per channel\n",
    "        map_file (str): complete path to the mapping file\n",
    "\n",
    "        Returns:\n",
    "        -------\n",
    "        data_matrix (2D array): image of the MA-PMT\n",
    "        \"\"\"\n",
    "        # get mapping for image pixels\n",
    "        pixel_map = np.loadtxt(map_file)\n",
    "\n",
    "        data_matrix = np.zeros([8, 8])\n",
    "\n",
    "        for i in range(8):\n",
    "            for j in range(8):\n",
    "                if pixel_map[i, j] == 0:\n",
    "                    continue\n",
    "                else:\n",
    "                    channel = int(pixel_map[i, j]-1)\n",
    "                    data_matrix[i, j] = data_per_idx[channel]\n",
    "\n",
    "        return data_matrix"
   ]
  },
  {
   "cell_type": "code",
   "execution_count": 4,
   "metadata": {
    "collapsed": true
   },
   "outputs": [],
   "source": [
    "#Serpentine mode vectoring\n",
    "#transform into a vector an array received from Image Channel\n",
    "def vector_serpentina():\n",
    "    \"\"\"\n",
    "        Private method that returns the transformation\n",
    "        of an matrix in array using the serpentine method\n",
    "\n",
    "        Args:\n",
    "        ----\n",
    "        None \n",
    "\n",
    "        Returns:\n",
    "        -------\n",
    "        lista (1D array): vectorization result\n",
    "    \"\"\"\n",
    "    \n",
    "    lista=np.array([])\n",
    "    #Receive array of \"create_image\" function from file Image Channel\n",
    "    vetor=ma_pmt_image\n",
    "    for i in range (8):\n",
    "\n",
    "        if(i==1 or i==3 or i==5 or i==7):\n",
    "            #Reverse the order of elements in an array along the given axis.\n",
    "            vetor=np.flip(ma_pmt_image, 1) \n",
    "        else:\n",
    "            #Does not require even lines to flip\n",
    "            vetor=ma_pmt_image\n",
    "\n",
    "        for j in range(8):\n",
    "            lista=np.append(lista,vetor[i,j])\n",
    "    return lista"
   ]
  },
  {
   "cell_type": "code",
   "execution_count": 5,
   "metadata": {
    "collapsed": true
   },
   "outputs": [],
   "source": [
    "#Desvectorize serpentine mode\n",
    "def desvector_serpentina(vetor):\n",
    "    \"\"\"\n",
    "        Private method that returns the transformation\n",
    "        of an array in matrix using the serpentine method\n",
    "\n",
    "        Args:\n",
    "        ----\n",
    "        Vetor(1D Array):Vector that we will transform into matrix\n",
    "\n",
    "        Returns:\n",
    "        -------\n",
    "        v (2D array): transformation result\n",
    "    \"\"\"\n",
    "    #Using the copy, to avoid the error of change in the serpentine matrix\n",
    "    teste=vetor.copy()\n",
    "    #Gives a new shape to an array without changing its data.\n",
    "    v = teste.reshape((8, 8))\n",
    "    for i in range (8):\n",
    "\n",
    "        if(i==1 or i==3 or i==5 or i==7):\n",
    "            bloco = v[i,:8]\n",
    "            #Reverse the order of elements in an array along the given axis.\n",
    "            bloco[:] = np.flip(bloco.copy(),0)\n",
    "        \n",
    "    return v"
   ]
  },
  {
   "cell_type": "code",
   "execution_count": 6,
   "metadata": {
    "collapsed": true
   },
   "outputs": [],
   "source": [
    "#opening the file\n",
    "file = open(home_path+'/processed_data/Dados BC1/BC1.CS10706F.LBA66.FOCON.pkl','rb')\n",
    "cesium_scan = pickle.load(file)\n",
    "single_anode = 2\n",
    "single_data = cesium_scan['data'][:, single_anode]\n",
    "\n",
    "#Path to the channel reading mapping file\n",
    "map_path = home_path+'/processed_data/Dados BC1/mapping.txt'"
   ]
  },
  {
   "cell_type": "code",
   "execution_count": 7,
   "metadata": {
    "collapsed": true
   },
   "outputs": [],
   "source": [
    "# Find the tubes inside the cell using the\n",
    "# peaks information of the single anode PMT\n",
    "tubes_idx = find_tubes(single_data,percentage=0.6,number_tubes=6)"
   ]
  },
  {
   "cell_type": "code",
   "execution_count": 8,
   "metadata": {
    "collapsed": true
   },
   "outputs": [],
   "source": [
    "multi_data = cesium_scan['data']\n"
   ]
  },
  {
   "cell_type": "code",
   "execution_count": 9,
   "metadata": {
    "collapsed": true
   },
   "outputs": [],
   "source": [
    "separate_peaks = []\n",
    "for k in range(len(tubes_idx)):\n",
    "    separate_peaks.append(multi_data[tubes_idx[k][0]:tubes_idx[k][1]])"
   ]
  },
  {
   "cell_type": "code",
   "execution_count": 10,
   "metadata": {
    "collapsed": true
   },
   "outputs": [],
   "source": [
    "#Uses the vector_serpentina method to vectorize all data array entries\n",
    "#It returns a 165X64 matrix, with the values of the Data_Array.npy files mapped\n",
    "for l in range(separate_peaks[0].shape[0]):\n",
    "    #ma_pmt_image receives array from imported file after passing through \"create image\"\n",
    "    ma_pmt_image = create_image(separate_peaks[0][l,:], map_path)\n",
    "    if (l==0):\n",
    "        #Used to initialize matriz_serpentina to avoid error in vstack\n",
    "        matriz_serpentina=vector_serpentina()\n",
    "    else:\n",
    "        #Stack arrays in sequence vertically (row wise).\n",
    "        matriz_serpentina=np.vstack((  matriz_serpentina, vector_serpentina()  ))"
   ]
  },
  {
   "cell_type": "code",
   "execution_count": 11,
   "metadata": {},
   "outputs": [
    {
     "data": {
      "text/plain": [
       "True"
      ]
     },
     "execution_count": 11,
     "metadata": {},
     "output_type": "execute_result"
    }
   ],
   "source": [
    "#Comparing if the matrices are equal\n",
    "np.array_equal(ma_pmt_image,desvector_serpentina(matriz_serpentina[169]))"
   ]
  },
  {
   "cell_type": "code",
   "execution_count": 12,
   "metadata": {},
   "outputs": [
    {
     "name": "stdout",
     "output_type": "stream",
     "text": [
      "[[  0.   0.   0.  48.  46.   0.   0.   0.]\n",
      " [  0.  44.  42.  40.  38.  36.  34.   0.]\n",
      " [ 19.  32.  30.  28.  26.  23.  25.   0.]\n",
      " [ 27.  29.  31.  33.  35.  37.  39.  41.]\n",
      " [ 43.  45.  47.  24.  22.  20.  18.  16.]\n",
      " [  0.  14.  12.   8.   6.   5.  10.  21.]\n",
      " [  0.   1.   2.   9.  17.   7.  11.   0.]\n",
      " [  0.   0.   0.  13.  15.   0.   0.   0.]]\n"
     ]
    }
   ],
   "source": [
    "pixel_map = np.loadtxt(map_path)\n",
    "print pixel_map"
   ]
  },
  {
   "cell_type": "code",
   "execution_count": null,
   "metadata": {
    "collapsed": true
   },
   "outputs": [],
   "source": []
  },
  {
   "cell_type": "code",
   "execution_count": null,
   "metadata": {
    "collapsed": true
   },
   "outputs": [],
   "source": []
  }
 ],
 "metadata": {
  "kernelspec": {
   "display_name": "Python 2",
   "language": "python",
   "name": "python2"
  },
  "language_info": {
   "codemirror_mode": {
    "name": "ipython",
    "version": 2
   },
   "file_extension": ".py",
   "mimetype": "text/x-python",
   "name": "python",
   "nbconvert_exporter": "python",
   "pygments_lexer": "ipython2",
   "version": "2.7.15"
  }
 },
 "nbformat": 4,
 "nbformat_minor": 2
}
