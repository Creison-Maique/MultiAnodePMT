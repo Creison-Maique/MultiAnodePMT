{
 "cells": [
  {
   "cell_type": "code",
   "execution_count": 1,
   "metadata": {},
   "outputs": [
    {
     "name": "stdout",
     "output_type": "stream",
     "text": [
      "[[  0.   0.   0.  48.  46.   0.   0.   0.]\n",
      " [  0.  44.  42.  40.  38.  36.  34.   0.]\n",
      " [ 19.  32.  30.  28.  26.  23.  25.   0.]\n",
      " [ 27.  29.  31.  33.  35.  37.  39.  41.]\n",
      " [ 43.  45.  47.  24.  22.  20.  18.  16.]\n",
      " [  0.  14.  12.   8.   6.   5.  10.  21.]\n",
      " [  0.   1.   2.   9.  17.   7.  11.   0.]\n",
      " [  0.   0.   0.  13.  15.   0.   0.   0.]]\n"
     ]
    },
    {
     "data": {
      "image/png": "[encoded data removed]",
      "text/plain": [
       "<Figure size 432x288 with 1 Axes>"
      ]
     },
     "metadata": {},
     "output_type": "display_data"
    }
   ],
   "source": [
    "%run 'openfiles.ipynb'\n",
    "\n",
    "# get mapping for image pixels\n",
    "pixel_map = np.loadtxt(map_path)\n",
    "algorithm='deflation'"
   ]
  },
  {
   "cell_type": "code",
   "execution_count": 2,
   "metadata": {
    "collapsed": true
   },
   "outputs": [],
   "source": [
    "def calc_ICA(matriz_method,number_componentes):\n",
    "    # Compute ICA:\n",
    "    \"\"\"\n",
    "        Private method creating a vector image in a chosen folder\n",
    "        Only for Fast ICA\n",
    "        #note that you need the variable \" ordem \" to desvector_patches\n",
    "        Args:\n",
    "        ----\n",
    "        matriz_method (str): Method that will return a transformation\n",
    "        of an matrix in array\n",
    "        number_componentes(int): Number of components that will be used\n",
    "\n",
    "        Returns:\n",
    "        pesq(array 2D)\n",
    "        -------\n",
    "        \n",
    "    \"\"\"  \n",
    "    rn = np.random.RandomState(0)\n",
    "    ica = FastICA(n_components=number_componentes,algorithm=algorithm, fun='logcosh',random_state=rn)\n",
    "    \n",
    "    \n",
    "    if (matriz_method=='Serpentine'):\n",
    "        #Use desvetor_serpentina \n",
    "            S_ = ica.fit_transform(matriz_serpentina) \n",
    "            A_ = ica.components_             \n",
    "\n",
    "    \n",
    "\n",
    "    #Convert the input to an array.\n",
    "    myarray = np.asarray(S_)\n",
    "    pesq2 = np.asarray(A_)\n",
    "    \n",
    "    pesq= (pesq2-pesq2.min())/(pesq2.max()-pesq2.min())\n",
    "\n",
    "    return pesq \n"
   ]
  },
  {
   "cell_type": "code",
   "execution_count": 3,
   "metadata": {
    "collapsed": true
   },
   "outputs": [],
   "source": [
    "def notacao_cientica(x, pos):\n",
    "    a, b = '{:.2e}'.format(x).split('e')\n",
    "    b = int(b)\n",
    "    return r'${} \\times 10^{{{}}}$'.format(a, b)"
   ]
  },
  {
   "cell_type": "code",
   "execution_count": 4,
   "metadata": {
    "collapsed": true
   },
   "outputs": [],
   "source": [
    "def path_serpentina(number):\n",
    "    #number=Number of components that were used in the function \"calc_ICA\"\n",
    "    N=str(number)\n",
    "    serpentina_path = home_path+'/BC1/analysis/'+data_region+'/FastICA/'+N+'_Sources/serpentine_method'\n",
    "    \n",
    "\n",
    "\n",
    "    return serpentina_path\n",
    "\n"
   ]
  },
  {
   "cell_type": "code",
   "execution_count": 5,
   "metadata": {
    "collapsed": true
   },
   "outputs": [],
   "source": [
    "#Sets image size\n",
    "def create_image_ICA(method,pesq):\n",
    "    \"\"\"\n",
    "        Private method creating a vector image in a chosen folder\n",
    "        Only for Fast ICA\n",
    "        #note that you need the variable \" ordem \" to desvector_patches\n",
    "        Args:\n",
    "        ----\n",
    "        method(string):Method that will be used to transform the matrix in 8 X 8\n",
    "   \n",
    "        pesq(array): Matrix returned by function \"calc_ICA\"\n",
    "       \n",
    "        Returns:\n",
    "        Image\n",
    "        -------\n",
    "        \n",
    "    \"\"\"  \n",
    "    number=pesq.shape[0]\n",
    "    #Method to generate the images\n",
    "    for lista in range(number):\n",
    "        \n",
    "        \n",
    "        #Sets image size\n",
    "        plt.figure(figsize=(15,15))\n",
    "        plt.subplots(1,1)\n",
    "    \n",
    "        #Create the image\n",
    "        if (method=='Serpentine'):\n",
    "            #Use desvetor_serpentina in matshow\n",
    "            plt.matshow(desvector_serpentina(pesq[lista]),cmap='YlGnBu', fignum=1,vmin=0, vmax=1)\n",
    "            path=path_serpentina(number)\n",
    "           \n",
    "            \n",
    "            \n",
    "        X= str(lista+1)\n",
    "        N=str(number)\n",
    "        sm = plt.cm.ScalarMappable(cmap='YlGnBu',norm=plt.Normalize(vmin=0, vmax=1))\n",
    "        sm._A = []\n",
    "        cb=plt.colorbar(sm,format=ticker.FuncFormatter(notacao_cientica))\n",
    "        cb.ax.tick_params(labelsize=15)\n",
    "        tick_locator = ticker.MaxNLocator(nbins=5)\n",
    "        cb.locator = tick_locator\n",
    "        cb.update_ticks()\n",
    "        \n",
    "        #Sets image margins size\n",
    "        \n",
    "        #plt.xlabel('Smarts')\n",
    "        #plt.ylabel('Probability')\n",
    "        plt.title('Source '+X +' of '+str(number)+': FastICA Method '+str(method) , fontsize = 25)\n",
    "        #plt.text(60, .025, r'$\\mu=100,\\ \\sigma=15$')\n",
    "        \n",
    "        plt.xticks([])\n",
    "        plt.yticks([])\n",
    "        #plt.axis('off')\n",
    "        # hide tick and tick label of the big axes\n",
    "        plt.xlabel(\"Pixels X\",fontsize=20)\n",
    "        plt.ylabel(\"Pixels Y\",fontsize=20)\n",
    "\n",
    "        #place to create the image\n",
    "        \n",
    "\n",
    " \n",
    "        plt.savefig(path+'/Sources/sources_'+N+'_image_'+X+'.png', bbox_inches='tight')\n",
    "       \n",
    "        plt.clf()\n",
    "        \n",
    "     "
   ]
  },
  {
   "cell_type": "code",
   "execution_count": 6,
   "metadata": {
    "collapsed": true
   },
   "outputs": [],
   "source": [
    "#Method Serpentine"
   ]
  },
  {
   "cell_type": "code",
   "execution_count": 7,
   "metadata": {},
   "outputs": [
    {
     "name": "stdout",
     "output_type": "stream",
     "text": [
      "Sources 03\n"
     ]
    }
   ],
   "source": [
    "#For 03 Sources\n",
    "sources03=calc_ICA('Serpentine',3)\n",
    "#create_image_ICA(\"Serpentine\",sources03) \n",
    "#plt.close('all')\n",
    "print \"Sources 03\"\n",
    "#kmeans_sources03 = KMeans(n_clusters=2, random_state=0).fit(sources03)\n",
    "#print kmeans_sources03.labels_"
   ]
  },
  {
   "cell_type": "code",
   "execution_count": 17,
   "metadata": {},
   "outputs": [
    {
     "data": {
      "image/png": "[encoded data removed]",
      "text/plain": [
       "<Figure size 432x288 with 1 Axes>"
      ]
     },
     "metadata": {},
     "output_type": "display_data"
    }
   ],
   "source": [
    "plt.plot(sources03[2])\n",
    "plt.show()"
   ]
  },
  {
   "cell_type": "code",
   "execution_count": 19,
   "metadata": {},
   "outputs": [
    {
     "name": "stdout",
     "output_type": "stream",
     "text": [
      "Sources 04\n"
     ]
    }
   ],
   "source": [
    "#For 04 Sources\n",
    "sources04=calc_ICA('Serpentine',4)\n",
    "#create_image_ICA(\"Serpentine\",sources04)\n",
    "#plt.close('all')\n",
    "print \"Sources 04\"\n",
    "#kmeans_sources04 = KMeans(n_clusters=2, random_state=0).fit(sources04)\n",
    "#print kmeans_sources04.labels_"
   ]
  },
  {
   "cell_type": "code",
   "execution_count": 20,
   "metadata": {},
   "outputs": [
    {
     "name": "stdout",
     "output_type": "stream",
     "text": [
      "Sources 05\n"
     ]
    }
   ],
   "source": [
    "#For 05 Souces\n",
    "sources05=calc_ICA(\"Serpentine\",5)\n",
    "#create_image_ICA(\"Serpentine\",sources05) \n",
    "#plt.close('all')\n",
    "print \"Sources 05\"\n",
    "#kmeans_sources05 = KMeans(n_clusters=3, random_state=0).fit(sources05)\n",
    "#print kmeans_sources05.labels_"
   ]
  },
  {
   "cell_type": "code",
   "execution_count": 21,
   "metadata": {},
   "outputs": [
    {
     "name": "stdout",
     "output_type": "stream",
     "text": [
      "Sources 06\n"
     ]
    }
   ],
   "source": [
    "#For 06 Sources\n",
    "sources06=calc_ICA(\"Serpentine\",6)\n",
    "#create_image_ICA(\"Serpentine\",sources06)\n",
    "#plt.close('all')\n",
    "print \"Sources 06\"\n",
    "#kmeans_sources06 = KMeans(n_clusters=3, random_state=0).fit(sources06)\n",
    "#print kmeans_sources06.labels_"
   ]
  },
  {
   "cell_type": "code",
   "execution_count": 22,
   "metadata": {},
   "outputs": [
    {
     "name": "stdout",
     "output_type": "stream",
     "text": [
      "Sources 07\n"
     ]
    }
   ],
   "source": [
    "#For 07 Sources\n",
    "sources07=calc_ICA(\"Serpentine\",7)\n",
    "#create_image_ICA(\"Serpentine\",sources07)\n",
    "#plt.close('all')\n",
    "print \"Sources 07\"\n",
    "#kmeans_sources07 = KMeans(n_clusters=3, random_state=0).fit(sources07)\n",
    "#print kmeans_sources07.labels_"
   ]
  },
  {
   "cell_type": "code",
   "execution_count": 23,
   "metadata": {},
   "outputs": [
    {
     "name": "stdout",
     "output_type": "stream",
     "text": [
      "Sources 08\n"
     ]
    }
   ],
   "source": [
    "#For 08 Sources\n",
    "sources08=calc_ICA(\"Serpentine\",8)\n",
    "#create_image_ICA(\"Serpentine\",sources08)\n",
    "#plt.close('all')\n",
    "print \"Sources 08\"\n",
    "#kmeans_sources08 = KMeans(n_clusters=3, random_state=0).fit(sources08)\n",
    "#print kmeans_sources08.labels_"
   ]
  },
  {
   "cell_type": "code",
   "execution_count": 24,
   "metadata": {},
   "outputs": [
    {
     "name": "stdout",
     "output_type": "stream",
     "text": [
      "Sources 09\n"
     ]
    }
   ],
   "source": [
    "#For 09 Sources\n",
    "sources09=calc_ICA(\"Serpentine\",9)\n",
    "#create_image_ICA(\"Serpentine\",sources09) \n",
    "#plt.close('all')\n",
    "print \"Sources 09\"\n",
    "#kmeans_sources09 = KMeans(n_clusters=3, random_state=0).fit(sources09)\n",
    "#print kmeans_sources09.labels_"
   ]
  },
  {
   "cell_type": "code",
   "execution_count": 25,
   "metadata": {},
   "outputs": [
    {
     "name": "stderr",
     "output_type": "stream",
     "text": [
      "/home/Creison/miniconda2/lib/python2.7/site-packages/matplotlib/pyplot.py:537: RuntimeWarning: More than 20 figures have been opened. Figures created through the pyplot interface (`matplotlib.pyplot.figure`) are retained until explicitly closed and may consume too much memory. (To control this warning, see the rcParam `figure.max_open_warning`).\n",
      "  max_open_warning, RuntimeWarning)\n"
     ]
    },
    {
     "name": "stdout",
     "output_type": "stream",
     "text": [
      "Sources 48\n"
     ]
    }
   ],
   "source": [
    "#For 48 Sources\n",
    "sources48=calc_ICA(\"Serpentine\",48)\n",
    "#create_image_ICA(\"Serpentine\",sources48)\n",
    "#plt.close('all')\n",
    "print \"Sources 48\""
   ]
  },
  {
   "cell_type": "code",
   "execution_count": 27,
   "metadata": {},
   "outputs": [
    {
     "name": "stdout",
     "output_type": "stream",
     "text": [
      "Sources 64\n"
     ]
    }
   ],
   "source": [
    "#For 64 Sources\n",
    "sources64=calc_ICA(\"Serpentine\",64)\n",
    "#create_image_ICA(\"Serpentine\",sources64) \n",
    "#plt.close('all')\n",
    "print \"Sources 64\""
   ]
  },
  {
   "cell_type": "code",
   "execution_count": null,
   "metadata": {
    "collapsed": true
   },
   "outputs": [],
   "source": []
  },
  {
   "cell_type": "code",
   "execution_count": null,
   "metadata": {
    "collapsed": true
   },
   "outputs": [],
   "source": []
  }
 ],
 "metadata": {
  "kernelspec": {
   "display_name": "Python 2",
   "language": "python",
   "name": "python2"
  },
  "language_info": {
   "codemirror_mode": {
    "name": "ipython",
    "version": 2
   },
   "file_extension": ".py",
   "mimetype": "text/x-python",
   "name": "python",
   "nbconvert_exporter": "python",
   "pygments_lexer": "ipython2",
   "version": "2.7.15"
  }
 },
 "nbformat": 4,
 "nbformat_minor": 2
}
